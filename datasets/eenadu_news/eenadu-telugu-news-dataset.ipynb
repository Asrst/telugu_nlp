{
 "cells": [
  {
   "cell_type": "code",
   "execution_count": 1,
   "metadata": {},
   "outputs": [],
   "source": [
    "from urllib.request import urlopen\n",
    "from bs4 import BeautifulSoup\n",
    "import json\n",
    "import pandas as pd\n",
    "import numpy as np\n",
    "from datetime import date, datetime, timedelta\n",
    "import os\n",
    "import re"
   ]
  },
  {
   "cell_type": "code",
   "execution_count": 2,
   "metadata": {},
   "outputs": [],
   "source": [
    "eenadu_archives = 'https://www.eenadu.net/archivesdet/home/'"
   ]
  },
  {
   "cell_type": "code",
   "execution_count": 3,
   "metadata": {},
   "outputs": [],
   "source": [
    "category_links = {\n",
    "    'eenadu_cinema' : 'https://www.eenadu.net/archivespage/cinemamore/', \n",
    "    'eenadu_sports' : 'https://www.eenadu.net/archivespage/sportsmore/', \n",
    "    'eenadu_crime' : 'https://www.eenadu.net/archivespage/crimemore/',\n",
    "    'eenadu_business' : 'https://www.eenadu.net/archivespage/businessmore/',\n",
    "    'eenadu_national' : 'https://www.eenadu.net/archivespage/nationalmore/'}\n",
    "\n",
    "# class=\"article-box-list no-space-t no-space-b\""
   ]
  },
  {
   "cell_type": "code",
   "execution_count": 4,
   "metadata": {},
   "outputs": [],
   "source": [
    "def readout_buffer(response):\n",
    "    response.text = response.read()\n",
    "    return response.text.decode('utf-8')\n",
    "\n",
    "def get_data_from_url(url):\n",
    "    try:\n",
    "        r = urlopen(url)\n",
    "        doc = readout_buffer(r)\n",
    "    except Exception as e:\n",
    "        print(e)\n",
    "        doc = \"\"\n",
    "    return doc"
   ]
  },
  {
   "cell_type": "code",
   "execution_count": 5,
   "metadata": {},
   "outputs": [],
   "source": [
    "def save_json(d, path):\n",
    "    with open(path, 'w') as fp:\n",
    "        json.dump(d, fp)\n",
    "    \n",
    "def read_json(path):\n",
    "    with open(path, 'r') as fp:\n",
    "        return json.load(fp)"
   ]
  },
  {
   "cell_type": "markdown",
   "metadata": {},
   "source": [
    "### Scrape links"
   ]
  },
  {
   "cell_type": "code",
   "execution_count": 6,
   "metadata": {},
   "outputs": [],
   "source": [
    "# news_urls = dict.fromkeys(category_links.keys(), [])\n",
    "news_urls = {k:[] for k in category_links.keys()}\n",
    "N_days = 365\n",
    "for i in range(0, N_days):\n",
    "    current_date = date.today() - timedelta(days = i)\n",
    "    current_date = current_date.strftime('%d-%m-%Y')\n",
    "    for key in category_links:\n",
    "        current_category_url = category_links[key] + current_date\n",
    "        # open the main link\n",
    "        doc = get_data_from_url(current_category_url)\n",
    "        # parse html\n",
    "        soup = BeautifulSoup(doc, 'html.parser')\n",
    "        # print(soup)\n",
    "        # filter body\n",
    "        div = soup.find('ul', {'class': \"article-box-list no-space-t no-space-b\"})\n",
    "        # print(div)\n",
    "        # find all ahref tags\n",
    "        if div:\n",
    "            anchors = div.find_all('a');\n",
    "            anchor_links = [anchor['href'] for anchor in anchors]\n",
    "            news_urls[key].extend(anchor_links)"
   ]
  },
  {
   "cell_type": "code",
   "execution_count": 7,
   "metadata": {},
   "outputs": [
    {
     "name": "stdout",
     "output_type": "stream",
     "text": [
      "eenadu_cinema ---> 3031\n",
      "eenadu_sports ---> 5852\n",
      "eenadu_crime ---> 3241\n",
      "eenadu_business ---> 4273\n",
      "eenadu_national ---> 5022\n"
     ]
    }
   ],
   "source": [
    "for key, values in news_urls.items():\n",
    "    print(key, '--->', len(set(values)))"
   ]
  },
  {
   "cell_type": "code",
   "execution_count": 8,
   "metadata": {},
   "outputs": [],
   "source": [
    "save_json(news_urls, \"links.json\")"
   ]
  },
  {
   "cell_type": "markdown",
   "metadata": {},
   "source": [
    "### Scrape Pages from Links & Parse html"
   ]
  },
  {
   "cell_type": "code",
   "execution_count": 9,
   "metadata": {},
   "outputs": [
    {
     "name": "stdout",
     "output_type": "stream",
     "text": [
      "Collecting selectolax\r\n",
      "\u001b[?25l  Downloading https://files.pythonhosted.org/packages/b9/6d/ad7ae4b4be8d43799019d5d4312b82cddf2540bc4334be6c327d8d7dc6c4/selectolax-0.2.3-cp36-cp36m-manylinux2010_x86_64.whl (1.7MB)\r\n",
      "\u001b[K     |████████████████████████████████| 1.7MB 3.0MB/s \r\n",
      "\u001b[?25hInstalling collected packages: selectolax\r\n",
      "Successfully installed selectolax-0.2.3\r\n"
     ]
    }
   ],
   "source": [
    "!pip install selectolax\n",
    "from selectolax.parser import HTMLParser\n",
    "def get_details(url):\n",
    "    doc = get_data_from_url(url)\n",
    "    try: \n",
    "        html_doc = HTMLParser(doc)\n",
    "        t = '\\n '.join(n.text() for n in html_doc.css(\"title\"))\n",
    "        a = '\\n '.join(n.text() for n in html_doc.css(\"span.text-justify\"))\n",
    "    except:\n",
    "        t = \"\"\n",
    "        a = \"\"\n",
    "    return [t, a]"
   ]
  },
  {
   "cell_type": "code",
   "execution_count": 10,
   "metadata": {},
   "outputs": [
    {
     "name": "stdout",
     "output_type": "stream",
     "text": [
      "parallelising the task on 4 cpu cores\n",
      "Done for eenadu_cinema (3031) ---> 0:10:38.194344\n",
      "Done for eenadu_sports (8883) ---> 0:29:58.885262\n",
      "Done for eenadu_crime (12124) ---> 0:41:11.971790\n",
      "Done for eenadu_business (16397) ---> 0:56:13.233728\n",
      "Done for eenadu_national (21419) ---> 1:12:48.094196\n"
     ]
    }
   ],
   "source": [
    "from datetime import datetime\n",
    "import multiprocessing as mp\n",
    "import multiprocessing.dummy as mpd\n",
    "import time\n",
    "\n",
    "start = datetime.now()\n",
    "cpu_cores = mp.cpu_count()\n",
    "print('parallelising the task on {} cpu cores'.format(cpu_cores))\n",
    "\n",
    "count = 0\n",
    "# divide pool\n",
    "pool = mpd.Pool(processes=cpu_cores)\n",
    "\n",
    "# to store (title, article, category)\n",
    "data_rows = []\n",
    "\n",
    "# iter over\n",
    "for key, url_list in news_urls.items(): \n",
    "    for row in pool.imap(get_details, url_list):\n",
    "        row.append(key)\n",
    "        data_rows.append(row)\n",
    "    # print/save\n",
    "    print(\"Done for {} ({}) ---> {}\".format(key, len(data_rows), datetime.now() - start))\n",
    "# close the pool\n",
    "pool.close()\n",
    "pool.join()"
   ]
  },
  {
   "cell_type": "code",
   "execution_count": 11,
   "metadata": {},
   "outputs": [
    {
     "data": {
      "text/plain": [
       "((21419, 3), Index(['title', 'text', 'category'], dtype='object'))"
      ]
     },
     "execution_count": 11,
     "metadata": {},
     "output_type": "execute_result"
    }
   ],
   "source": [
    "df = pd.DataFrame(data_rows, columns = ['title', 'text', 'category'])\n",
    "df.to_parquet('telugu_news_dataset.parquet', index = None)\n",
    "df.shape, df.columns"
   ]
  },
  {
   "cell_type": "code",
   "execution_count": 12,
   "metadata": {},
   "outputs": [
    {
     "data": {
      "text/plain": [
       "eenadu_sports      5852\n",
       "eenadu_national    5022\n",
       "eenadu_business    4273\n",
       "eenadu_crime       3241\n",
       "eenadu_cinema      3031\n",
       "Name: category, dtype: int64"
      ]
     },
     "execution_count": 12,
     "metadata": {},
     "output_type": "execute_result"
    }
   ],
   "source": [
    "df['category'].value_counts()"
   ]
  },
  {
   "cell_type": "code",
   "execution_count": 13,
   "metadata": {},
   "outputs": [
    {
     "data": {
      "text/html": [
       "<div>\n",
       "<style scoped>\n",
       "    .dataframe tbody tr th:only-of-type {\n",
       "        vertical-align: middle;\n",
       "    }\n",
       "\n",
       "    .dataframe tbody tr th {\n",
       "        vertical-align: top;\n",
       "    }\n",
       "\n",
       "    .dataframe thead th {\n",
       "        text-align: right;\n",
       "    }\n",
       "</style>\n",
       "<table border=\"1\" class=\"dataframe\">\n",
       "  <thead>\n",
       "    <tr style=\"text-align: right;\">\n",
       "      <th></th>\n",
       "      <th>title</th>\n",
       "      <th>text</th>\n",
       "      <th>category</th>\n",
       "    </tr>\n",
       "  </thead>\n",
       "  <tbody>\n",
       "    <tr>\n",
       "      <th>0</th>\n",
       "      <td>ఆల్‌ టైమ్‌ రికార్డ్‌గా బన్నీ సినిమా</td>\n",
       "      <td>\\n                రూ.220 కోట్ల వసూళ్లతో దూసుకు...</td>\n",
       "      <td>eenadu_cinema</td>\n",
       "    </tr>\n",
       "    <tr>\n",
       "      <th>1</th>\n",
       "      <td>వెంకీ టైటిల్‌ ఇదేనా?</td>\n",
       "      <td>\\n                \\n\\n‘ఎఫ్‌ 2’, ‘వెంకీ మామ’ వి...</td>\n",
       "      <td>eenadu_cinema</td>\n",
       "    </tr>\n",
       "    <tr>\n",
       "      <th>2</th>\n",
       "      <td>‘ఆర్‌ ఆర్‌ ఆర్‌’ విలన్‌ వచ్చాడు</td>\n",
       "      <td>\\n                \\n\\nతన చిత్రాల్లో కథానాయకుడి...</td>\n",
       "      <td>eenadu_cinema</td>\n",
       "    </tr>\n",
       "    <tr>\n",
       "      <th>3</th>\n",
       "      <td>ఆయన ముందు నేనెంత?</td>\n",
       "      <td>\\n                \\n\\nచిత్రసీమలో క్రమశిక్షణ, స...</td>\n",
       "      <td>eenadu_cinema</td>\n",
       "    </tr>\n",
       "    <tr>\n",
       "      <th>4</th>\n",
       "      <td>పూరి చేతుల మీదుగా</td>\n",
       "      <td>\\n                \\n\\nనాగశౌర్య హీరోగా నటించిన ...</td>\n",
       "      <td>eenadu_cinema</td>\n",
       "    </tr>\n",
       "  </tbody>\n",
       "</table>\n",
       "</div>"
      ],
      "text/plain": [
       "                                 title  \\\n",
       "0  ఆల్‌ టైమ్‌ రికార్డ్‌గా బన్నీ సినిమా   \n",
       "1                 వెంకీ టైటిల్‌ ఇదేనా?   \n",
       "2      ‘ఆర్‌ ఆర్‌ ఆర్‌’ విలన్‌ వచ్చాడు   \n",
       "3                    ఆయన ముందు నేనెంత?   \n",
       "4                    పూరి చేతుల మీదుగా   \n",
       "\n",
       "                                                text       category  \n",
       "0  \\n                రూ.220 కోట్ల వసూళ్లతో దూసుకు...  eenadu_cinema  \n",
       "1  \\n                \\n\\n‘ఎఫ్‌ 2’, ‘వెంకీ మామ’ వి...  eenadu_cinema  \n",
       "2  \\n                \\n\\nతన చిత్రాల్లో కథానాయకుడి...  eenadu_cinema  \n",
       "3  \\n                \\n\\nచిత్రసీమలో క్రమశిక్షణ, స...  eenadu_cinema  \n",
       "4  \\n                \\n\\nనాగశౌర్య హీరోగా నటించిన ...  eenadu_cinema  "
      ]
     },
     "execution_count": 13,
     "metadata": {},
     "output_type": "execute_result"
    }
   ],
   "source": [
    "df.head()"
   ]
  },
  {
   "cell_type": "code",
   "execution_count": 14,
   "metadata": {},
   "outputs": [],
   "source": [
    "# def get_details(doc):\n",
    "# \"\"\"\n",
    "# super slow parsing\n",
    "# \"\"\"\n",
    "#     try: \n",
    "#         soup = BeautifulSoup(doc, 'html.parser')\n",
    "#         # print(soup.title.string)\n",
    "#         paras = soup.find_all('p')\n",
    "#         a = ' \\n'.join([para.text for para in paras])\n",
    "#         t = soup.title.string\n",
    "#     except:\n",
    "#         t = \"\"\n",
    "#         a = \"\"\n",
    "#     return t, a"
   ]
  },
  {
   "cell_type": "code",
   "execution_count": null,
   "metadata": {},
   "outputs": [],
   "source": []
  }
 ],
 "metadata": {
  "kernelspec": {
   "display_name": "Python 3",
   "language": "python",
   "name": "python3"
  },
  "language_info": {
   "codemirror_mode": {
    "name": "ipython",
    "version": 3
   },
   "file_extension": ".py",
   "mimetype": "text/x-python",
   "name": "python",
   "nbconvert_exporter": "python",
   "pygments_lexer": "ipython3",
   "version": "3.6.6"
  }
 },
 "nbformat": 4,
 "nbformat_minor": 1
}
