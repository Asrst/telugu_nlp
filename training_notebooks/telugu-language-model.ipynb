{
 "cells": [
  {
   "cell_type": "code",
   "execution_count": 1,
   "metadata": {},
   "outputs": [
    {
     "name": "stdout",
     "output_type": "stream",
     "text": [
      "/kaggle/input/telugu-wikipedia-data/telugu_wiki_links.csv\n",
      "/kaggle/input/telugu-wikipedia-data/telugu_wikipedia_dataset.parquet\n",
      "/kaggle/input/telugu-sentencepiece-tokenizer/__notebook__.ipynb\n",
      "/kaggle/input/telugu-sentencepiece-tokenizer/__results__.html\n",
      "/kaggle/input/telugu-sentencepiece-tokenizer/__output__.json\n",
      "/kaggle/input/telugu-sentencepiece-tokenizer/telugu_tok.model\n",
      "/kaggle/input/telugu-sentencepiece-tokenizer/custom.css\n",
      "/kaggle/input/telugu-sentencepiece-tokenizer/telugu_tok.vocab\n",
      "/kaggle/input/telugu-sentencepiece-tokenizer/TeluguWikiSentences.txt\n"
     ]
    }
   ],
   "source": [
    "%reload_ext autoreload\n",
    "%autoreload 2\n",
    "%matplotlib inline\n",
    "\n",
    "import pandas as pd\n",
    "import numpy as np\n",
    "import re\n",
    "import os\n",
    "import sentencepiece as spm\n",
    "import pickle\n",
    "import pathlib\n",
    "from fastai.text import *\n",
    "torch.cuda.set_device(0)\n",
    "\n",
    "working_path = '/kaggle/working'\n",
    "input_data_path = '/kaggle/input'\n",
    "\n",
    "data_paths = {}\n",
    "for dirname, _, filenames in os.walk(input_data_path):\n",
    "    for filename in filenames:\n",
    "        data_paths[filename] = os.path.join(dirname, filename)\n",
    "        print(os.path.join(dirname, filename))"
   ]
  },
  {
   "cell_type": "code",
   "execution_count": 2,
   "metadata": {},
   "outputs": [
    {
     "data": {
      "text/plain": [
       "('1.0.59', '1.3.0')"
      ]
     },
     "execution_count": 2,
     "metadata": {},
     "output_type": "execute_result"
    }
   ],
   "source": [
    "import fastai, torch\n",
    "fastai.__version__ , torch.__version__"
   ]
  },
  {
   "cell_type": "code",
   "execution_count": 3,
   "metadata": {},
   "outputs": [
    {
     "data": {
      "text/plain": [
       "((99052, 2), Index(['title', 'text'], dtype='object'))"
      ]
     },
     "execution_count": 3,
     "metadata": {},
     "output_type": "execute_result"
    }
   ],
   "source": [
    "tel_df = pd.read_parquet(data_paths['telugu_wikipedia_dataset.parquet'])\n",
    "tel_df.shape, tel_df.columns"
   ]
  },
  {
   "cell_type": "code",
   "execution_count": 4,
   "metadata": {},
   "outputs": [
    {
     "name": "stdout",
     "output_type": "stream",
     "text": [
      "94435\n"
     ]
    }
   ],
   "source": [
    "texts = (tel_df['title'] + ' ' + tel_df['text']).tolist()\n",
    "texts = [t for t in tel_df['text'] if len(t.strip())>1]\n",
    "print(len(texts))"
   ]
  },
  {
   "cell_type": "code",
   "execution_count": 5,
   "metadata": {},
   "outputs": [],
   "source": [
    "df = pd.DataFrame(texts, columns = ['text'])"
   ]
  },
  {
   "cell_type": "code",
   "execution_count": 6,
   "metadata": {},
   "outputs": [
    {
     "data": {
      "text/plain": [
       "47"
      ]
     },
     "execution_count": 6,
     "metadata": {},
     "output_type": "execute_result"
    }
   ],
   "source": [
    "del tel_df, texts\n",
    "gc.collect()"
   ]
  },
  {
   "cell_type": "code",
   "execution_count": 7,
   "metadata": {},
   "outputs": [
    {
     "data": {
      "text/plain": [
       "((75548, 1), (18887, 1))"
      ]
     },
     "execution_count": 7,
     "metadata": {},
     "output_type": "execute_result"
    }
   ],
   "source": [
    "from sklearn.model_selection import train_test_split\n",
    "train_df, test_df = train_test_split(df, test_size=0.2)\n",
    "train_df.shape, test_df.shape"
   ]
  },
  {
   "cell_type": "code",
   "execution_count": 8,
   "metadata": {},
   "outputs": [],
   "source": [
    "sp = spm.SentencePieceProcessor()\n",
    "sp.Load(data_paths['telugu_tok.model'])\n",
    "itos = [sp.IdToPiece(int(i)) for i in range(25000)] # 25,000 is the vocab_size selected in sm tokenizer\n",
    "telugu_vocab = Vocab(itos)"
   ]
  },
  {
   "cell_type": "code",
   "execution_count": 9,
   "metadata": {},
   "outputs": [
    {
     "data": {
      "text/plain": [
       "['xxunk',\n",
       " 'xxpad',\n",
       " 'xxbos',\n",
       " 'xxeos',\n",
       " 'xxfld',\n",
       " 'xxmaj',\n",
       " 'xxup',\n",
       " 'xxrep',\n",
       " 'xxwrep']"
      ]
     },
     "execution_count": 9,
     "metadata": {},
     "output_type": "execute_result"
    }
   ],
   "source": [
    "from telugu_tokenizer_class_fastai import TeluguTokenizer\n",
    "tokenizer = Tokenizer(tok_func=TeluguTokenizer, lang='te')\n",
    "tokenizer.special_cases"
   ]
  },
  {
   "cell_type": "code",
   "execution_count": 10,
   "metadata": {},
   "outputs": [
    {
     "data": {
      "text/html": [],
      "text/plain": [
       "<IPython.core.display.HTML object>"
      ]
     },
     "metadata": {},
     "output_type": "display_data"
    },
    {
     "data": {
      "text/html": [],
      "text/plain": [
       "<IPython.core.display.HTML object>"
      ]
     },
     "metadata": {},
     "output_type": "display_data"
    }
   ],
   "source": [
    "data_lm = TextLMDataBunch.from_df(working_path, train_df=train_df, valid_df=test_df,\n",
    "                                  text_cols=[\"text\"], bs=96,\n",
    "                                  tokenizer=tokenizer, vocab=telugu_vocab) # default bs=64\n",
    "data_lm.save('telugu_lm.data')"
   ]
  },
  {
   "cell_type": "code",
   "execution_count": 11,
   "metadata": {},
   "outputs": [
    {
     "data": {
      "text/html": [
       "<table border=\"1\" class=\"dataframe\">\n",
       "  <thead>\n",
       "    <tr style=\"text-align: right;\">\n",
       "      <th>idx</th>\n",
       "      <th>text</th>\n",
       "    </tr>\n",
       "  </thead>\n",
       "  <tbody>\n",
       "    <tr>\n",
       "      <td>0</td>\n",
       "      <td>▁సంఖ్య ▁10 ▁కాగా ▁షెడ్యూల్డ్ ▁తెగల ▁సంఖ్య ▁0. ▁గ్రామం ▁యొక్క ▁జనగణన ▁లొకేషన్ ▁కోడ్ ▁58 02 66 [1]. పిన్ ▁కోడ్ : ▁532 22 1. ▁ఒక ▁సంచార ▁వైద్య ▁శాలలో ▁డాక్టర్లు ▁లేరు . ▁ముగ్గురు ▁పారామెడికల్ ▁సిబ్బంది ▁ఉన్నారు . ▁ప్రాథమిక ▁ఆరోగ్య ▁కేంద్రం , ▁ప్రాథమిక ▁ఆరోగ్య ▁ఉప ▁కేంద్రం ▁గ్రామం ▁నుండి ▁5 ▁నుండి ▁10 ▁కి . మీ . ▁దూరంలో ▁ఉన్నాయి . ▁అలోపతి ▁ఆసుపత్రి , ▁డిస్పెన్సరీ , ▁పశు ▁వైద్యశాల , ▁కుటుంబ ▁సంక్షేమ ▁కేంద్రం ▁గ్రామం ▁నుండి ▁5 ▁నుండి ▁10</td>\n",
       "    </tr>\n",
       "    <tr>\n",
       "      <td>1</td>\n",
       "      <td>▁చూపింది , ▁యు . స్ . ▁సుప్రీం ▁కోర్ట్ ▁ఉద్యోగం ▁ఇవ్వ టానికి &lt;unk&gt; ▁i q ▁పరీక్షల ▁వాడకాన్ని ▁కొన్ని ▁అరుదైన ▁సందర్భాలలో ▁తప్ప ▁మిగిలిన వాటి కి ▁నిషేధించారు [84] . ▁అంతర్జాతీయంగా , ▁కొన్ని ▁ప్రజా ▁విధానాలు , ▁పోషక పదార్ధాల ను ▁మెరుగుపరచ టం ▁మరియు ▁to x ins ▁లాంటివి ▁ఉన్నాయి , ▁వారి ▁లక్ష్యాల లో ▁ఒకటి ▁ప్రజ్ఞ ను ▁పెంచ టం ▁లేదా ▁తరుగుదల ను ▁ఆప టం ▁ఉంది . ▁ఫ్రెంచ్ ▁మనస్తత్వ శాస్త్ర ▁నిపుణుడు ▁అల్ ఫ్ రెడ్ ▁బి నెట్ &lt;unk&gt; ▁i</td>\n",
       "    </tr>\n",
       "    <tr>\n",
       "      <td>2</td>\n",
       "      <td>▁8 ▁ఉన్నాయి . ▁ఒక ▁ప్రభుత్వ ▁జూనియర్ ▁కళాశాల , ▁3 ▁ప్రైవేటు ▁జూనియర్ ▁కళాశాలలు ▁ఒక ▁ప్రభుత్వ ▁ఆర్ట్స్ ▁/ ▁సైన్స్ ▁డిగ్రీ ▁కళాశాల , ▁ఒక ▁ప్రైవేటు ▁ఆర్ట్స్ ▁/ ▁సైన్స్ ▁డిగ్రీ ▁కళాశాల ▁ఉన్నాయి . ▁గ్రామంలో ▁ఒక ▁ప్రైవేటు ▁మేనేజిమెంటు ▁కళాశాల ▁ఉంది . ▁ఒక ▁ప్రభుత్వ ▁పాలీటెక్నిక్ ▁ఉంది . ▁ఒక ▁ప్రైవేటు ▁వృత్తి ▁విద్యా ▁శిక్షణ ▁పాఠశాల ▁ఉంది . ▁సమీప ▁ఇంజనీరింగ్ ▁కళాశాల ▁ఒంగోలు లో ▁ఉంది . ▁సమీప ▁వైద్య ▁కళాశాల ▁గుంటూరులో ▁ఉంది . ▁సమీప ▁అనియత ▁విద్యా ▁కేంద్రం , ▁బ ధి రు</td>\n",
       "    </tr>\n",
       "    <tr>\n",
       "      <td>3</td>\n",
       "      <td>▁భౌతిక ▁శాస్త్రము ▁· ▁రసాయన ▁శాస్త్రము ▁· ▁ఖగోళ ▁శాస్త్రము ▁· ▁గణిత ము ▁· ▁కంప్యూటరు ▁భాష ▁· ▁కులాల ు ▁· ▁తెగలు ▁· ▁మతాలు ▁· ▁ప్రాచీన ▁నాగరికత లు ▁· ▁రాజకీయ ం ▁· ▁ప్రజా ▁ఉద్యమాలు ▁· ▁విద్య ▁· ▁వృత్తులు ▁· ▁సామాజిక ▁సిద్ధాంతాలు ▁పుణ్యక్షేత్రాల ు ▁· ▁దర్శన ీయ ▁స్థలాలు ▁· ▁జిల్లాలు ▁· ▁మండలాలు ▁· ▁గ్రామాలు ▁· ▁నదులు ▁· ▁జానపద ▁కళారూపాల ు ▁· ▁చరిత్ర ▁· ▁తెలంగాణ ▁వ్యక్తులు ▁దేశాలు ▁· ▁వారసత్వ ▁ప్రదేశాలు ▁· ▁ప్రపంచ ▁ప్రసిద్ధ ులు ▁·</td>\n",
       "    </tr>\n",
       "    <tr>\n",
       "      <td>4</td>\n",
       "      <td>▁స పో ట ▁పండు ను ▁పోలి వుండును . ▁పండిన ప్పుడు ▁పాలి ఫొ యిన ▁బ్రౌన్ ▁రంగులో ▁వుండును . ఒక ▁చెట్టు నుండి ▁ఏడాది కి ▁400 - 500 ▁కీ జి . ల వరకు ▁పళ్ళు వు త్పత్తి ▁అగును . పండు లో ▁గింజ శాతం ▁4 7% ▁వుండును . గింజ లో ▁నూనె ▁/ ▁కొవ్వు ▁19 -2 3% ▁వరకు ండును . ▁పచ్చి గా వున్న ▁గింజల ్లో ▁తేమ శాతం ▁ఎక్కువ ▁వుండును . ▁గింజల ను ▁ఆర బెట్టి న ▁(</td>\n",
       "    </tr>\n",
       "  </tbody>\n",
       "</table>"
      ],
      "text/plain": [
       "<IPython.core.display.HTML object>"
      ]
     },
     "metadata": {},
     "output_type": "display_data"
    }
   ],
   "source": [
    "data_lm.show_batch()"
   ]
  },
  {
   "cell_type": "code",
   "execution_count": 12,
   "metadata": {},
   "outputs": [
    {
     "data": {
      "text/plain": [
       "25000"
      ]
     },
     "execution_count": 12,
     "metadata": {},
     "output_type": "execute_result"
    }
   ],
   "source": [
    "len(data_lm.vocab.itos)"
   ]
  },
  {
   "cell_type": "code",
   "execution_count": 13,
   "metadata": {},
   "outputs": [
    {
     "name": "stdout",
     "output_type": "stream",
     "text": [
      "Downloading https://s3.amazonaws.com/fast-ai-modelzoo/wt103-fwd\n"
     ]
    },
    {
     "data": {
      "text/html": [],
      "text/plain": [
       "<IPython.core.display.HTML object>"
      ]
     },
     "metadata": {},
     "output_type": "display_data"
    }
   ],
   "source": [
    "learn = language_model_learner(data_lm, AWD_LSTM, drop_mult=0.25)\n",
    "learn = learn.to_fp16(clip=0.1)"
   ]
  },
  {
   "cell_type": "code",
   "execution_count": 14,
   "metadata": {},
   "outputs": [
    {
     "data": {
      "text/html": [],
      "text/plain": [
       "<IPython.core.display.HTML object>"
      ]
     },
     "metadata": {},
     "output_type": "display_data"
    },
    {
     "name": "stdout",
     "output_type": "stream",
     "text": [
      "LR Finder is complete, type {learner_name}.recorder.plot() to see the graph.\n"
     ]
    },
    {
     "data": {
      "image/png": "[encoded data removed]",
      "text/plain": [
       "<Figure size 432x288 with 1 Axes>"
      ]
     },
     "metadata": {
      "needs_background": "light"
     },
     "output_type": "display_data"
    }
   ],
   "source": [
    "learn.lr_find()\n",
    "learn.recorder.plot()"
   ]
  },
  {
   "cell_type": "code",
   "execution_count": 15,
   "metadata": {},
   "outputs": [
    {
     "data": {
      "text/html": [
       "\n",
       "    <div>\n",
       "        <style>\n",
       "            /* Turns off some styling */\n",
       "            progress {\n",
       "                /* gets rid of default border in Firefox and Opera. */\n",
       "                border: none;\n",
       "                /* Needs to be in here for Safari polyfill so background images work as expected. */\n",
       "                background-size: auto;\n",
       "            }\n",
       "            .progress-bar-interrupted, .progress-bar-interrupted::-webkit-progress-bar {\n",
       "                background: #F44336;\n",
       "            }\n",
       "        </style>\n",
       "      <progress value='0' class='' max='1', style='width:300px; height:20px; vertical-align: middle;'></progress>\n",
       "      0.00% [0/1 00:00<00:00]\n",
       "    </div>\n",
       "    \n",
       "<table border=\"1\" class=\"dataframe\">\n",
       "  <thead>\n",
       "    <tr style=\"text-align: left;\">\n",
       "      <th>epoch</th>\n",
       "      <th>train_loss</th>\n",
       "      <th>valid_loss</th>\n",
       "      <th>accuracy</th>\n",
       "      <th>time</th>\n",
       "    </tr>\n",
       "  </thead>\n",
       "  <tbody>\n",
       "  </tbody>\n",
       "</table><p>\n",
       "\n",
       "    <div>\n",
       "        <style>\n",
       "            /* Turns off some styling */\n",
       "            progress {\n",
       "                /* gets rid of default border in Firefox and Opera. */\n",
       "                border: none;\n",
       "                /* Needs to be in here for Safari polyfill so background images work as expected. */\n",
       "                background-size: auto;\n",
       "            }\n",
       "            .progress-bar-interrupted, .progress-bar-interrupted::-webkit-progress-bar {\n",
       "                background: #F44336;\n",
       "            }\n",
       "        </style>\n",
       "      <progress value='6446' class='' max='8334', style='width:300px; height:20px; vertical-align: middle;'></progress>\n",
       "      77.35% [6446/8334 17:30<05:07 4.1876]\n",
       "    </div>\n",
       "    "
      ],
      "text/plain": [
       "<IPython.core.display.HTML object>"
      ]
     },
     "metadata": {},
     "output_type": "display_data"
    }
   ],
   "source": [
    "learn.fit_one_cycle(1, 1e-2, moms=(0.8,0.7))\n",
    "learn.save('first', with_opt=True)"
   ]
  },
  {
   "cell_type": "code",
   "execution_count": 16,
   "metadata": {},
   "outputs": [],
   "source": [
    "learn.load('first', with_opt=True);"
   ]
  },
  {
   "cell_type": "code",
   "execution_count": 17,
   "metadata": {},
   "outputs": [
    {
     "data": {
      "text/html": [
       "\n",
       "    <div>\n",
       "        <style>\n",
       "            /* Turns off some styling */\n",
       "            progress {\n",
       "                /* gets rid of default border in Firefox and Opera. */\n",
       "                border: none;\n",
       "                /* Needs to be in here for Safari polyfill so background images work as expected. */\n",
       "                background-size: auto;\n",
       "            }\n",
       "            .progress-bar-interrupted, .progress-bar-interrupted::-webkit-progress-bar {\n",
       "                background: #F44336;\n",
       "            }\n",
       "        </style>\n",
       "      <progress value='4' class='' max='5', style='width:300px; height:20px; vertical-align: middle;'></progress>\n",
       "      80.00% [4/5 2:02:02<30:30]\n",
       "    </div>\n",
       "    \n",
       "<table border=\"1\" class=\"dataframe\">\n",
       "  <thead>\n",
       "    <tr style=\"text-align: left;\">\n",
       "      <th>epoch</th>\n",
       "      <th>train_loss</th>\n",
       "      <th>valid_loss</th>\n",
       "      <th>accuracy</th>\n",
       "      <th>time</th>\n",
       "    </tr>\n",
       "  </thead>\n",
       "  <tbody>\n",
       "    <tr>\n",
       "      <td>0</td>\n",
       "      <td>3.770269</td>\n",
       "      <td>3.837296</td>\n",
       "      <td>0.408489</td>\n",
       "      <td>30:30</td>\n",
       "    </tr>\n",
       "    <tr>\n",
       "      <td>1</td>\n",
       "      <td>3.812927</td>\n",
       "      <td>3.707463</td>\n",
       "      <td>0.419479</td>\n",
       "      <td>30:29</td>\n",
       "    </tr>\n",
       "    <tr>\n",
       "      <td>2</td>\n",
       "      <td>3.458133</td>\n",
       "      <td>3.453252</td>\n",
       "      <td>0.443968</td>\n",
       "      <td>30:31</td>\n",
       "    </tr>\n",
       "    <tr>\n",
       "      <td>3</td>\n",
       "      <td>3.190268</td>\n",
       "      <td>3.151143</td>\n",
       "      <td>0.479116</td>\n",
       "      <td>30:31</td>\n",
       "    </tr>\n",
       "  </tbody>\n",
       "</table><p>\n",
       "\n",
       "    <div>\n",
       "        <style>\n",
       "            /* Turns off some styling */\n",
       "            progress {\n",
       "                /* gets rid of default border in Firefox and Opera. */\n",
       "                border: none;\n",
       "                /* Needs to be in here for Safari polyfill so background images work as expected. */\n",
       "                background-size: auto;\n",
       "            }\n",
       "            .progress-bar-interrupted, .progress-bar-interrupted::-webkit-progress-bar {\n",
       "                background: #F44336;\n",
       "            }\n",
       "        </style>\n",
       "      <progress value='1115' class='' max='2014', style='width:300px; height:20px; vertical-align: middle;'></progress>\n",
       "      55.36% [1115/2014 01:18<01:03]\n",
       "    </div>\n",
       "    "
      ],
      "text/plain": [
       "<IPython.core.display.HTML object>"
      ]
     },
     "metadata": {},
     "output_type": "display_data"
    }
   ],
   "source": [
    "learn.unfreeze()\n",
    "learn.fit_one_cycle(5, 1e-2, moms=(0.8,0.7))\n",
    "learn.save('second', with_opt=True)"
   ]
  },
  {
   "cell_type": "code",
   "execution_count": 18,
   "metadata": {},
   "outputs": [],
   "source": [
    "learn.load('second', with_opt=True);"
   ]
  },
  {
   "cell_type": "code",
   "execution_count": 19,
   "metadata": {},
   "outputs": [],
   "source": [
    "# learn.lr_find()\n",
    "# learn.recorder.plot()"
   ]
  },
  {
   "cell_type": "code",
   "execution_count": 20,
   "metadata": {},
   "outputs": [
    {
     "data": {
      "text/html": [
       "\n",
       "    <div>\n",
       "        <style>\n",
       "            /* Turns off some styling */\n",
       "            progress {\n",
       "                /* gets rid of default border in Firefox and Opera. */\n",
       "                border: none;\n",
       "                /* Needs to be in here for Safari polyfill so background images work as expected. */\n",
       "                background-size: auto;\n",
       "            }\n",
       "            .progress-bar-interrupted, .progress-bar-interrupted::-webkit-progress-bar {\n",
       "                background: #F44336;\n",
       "            }\n",
       "        </style>\n",
       "      <progress value='4' class='' max='5', style='width:300px; height:20px; vertical-align: middle;'></progress>\n",
       "      80.00% [4/5 2:02:04<30:31]\n",
       "    </div>\n",
       "    \n",
       "<table border=\"1\" class=\"dataframe\">\n",
       "  <thead>\n",
       "    <tr style=\"text-align: left;\">\n",
       "      <th>epoch</th>\n",
       "      <th>train_loss</th>\n",
       "      <th>valid_loss</th>\n",
       "      <th>accuracy</th>\n",
       "      <th>time</th>\n",
       "    </tr>\n",
       "  </thead>\n",
       "  <tbody>\n",
       "    <tr>\n",
       "      <td>0</td>\n",
       "      <td>3.041175</td>\n",
       "      <td>3.023907</td>\n",
       "      <td>0.497605</td>\n",
       "      <td>30:31</td>\n",
       "    </tr>\n",
       "    <tr>\n",
       "      <td>1</td>\n",
       "      <td>2.947432</td>\n",
       "      <td>3.002214</td>\n",
       "      <td>0.501123</td>\n",
       "      <td>30:31</td>\n",
       "    </tr>\n",
       "    <tr>\n",
       "      <td>2</td>\n",
       "      <td>2.901387</td>\n",
       "      <td>2.959659</td>\n",
       "      <td>0.507665</td>\n",
       "      <td>30:30</td>\n",
       "    </tr>\n",
       "    <tr>\n",
       "      <td>3</td>\n",
       "      <td>2.889405</td>\n",
       "      <td>2.917361</td>\n",
       "      <td>0.514284</td>\n",
       "      <td>30:30</td>\n",
       "    </tr>\n",
       "  </tbody>\n",
       "</table><p>\n",
       "\n",
       "    <div>\n",
       "        <style>\n",
       "            /* Turns off some styling */\n",
       "            progress {\n",
       "                /* gets rid of default border in Firefox and Opera. */\n",
       "                border: none;\n",
       "                /* Needs to be in here for Safari polyfill so background images work as expected. */\n",
       "                background-size: auto;\n",
       "            }\n",
       "            .progress-bar-interrupted, .progress-bar-interrupted::-webkit-progress-bar {\n",
       "                background: #F44336;\n",
       "            }\n",
       "        </style>\n",
       "      <progress value='1033' class='' max='2014', style='width:300px; height:20px; vertical-align: middle;'></progress>\n",
       "      51.29% [1033/2014 01:12<01:09]\n",
       "    </div>\n",
       "    "
      ],
      "text/plain": [
       "<IPython.core.display.HTML object>"
      ]
     },
     "metadata": {},
     "output_type": "display_data"
    }
   ],
   "source": [
    "learn.fit_one_cycle(5, 1e-3, moms=(0.8,0.7))\n",
    "learn.save('third', with_opt=True)"
   ]
  },
  {
   "cell_type": "code",
   "execution_count": 21,
   "metadata": {},
   "outputs": [],
   "source": [
    "learn.load('third', with_opt=True);"
   ]
  },
  {
   "cell_type": "code",
   "execution_count": 22,
   "metadata": {},
   "outputs": [
    {
     "data": {
      "text/html": [
       "\n",
       "    <div>\n",
       "        <style>\n",
       "            /* Turns off some styling */\n",
       "            progress {\n",
       "                /* gets rid of default border in Firefox and Opera. */\n",
       "                border: none;\n",
       "                /* Needs to be in here for Safari polyfill so background images work as expected. */\n",
       "                background-size: auto;\n",
       "            }\n",
       "            .progress-bar-interrupted, .progress-bar-interrupted::-webkit-progress-bar {\n",
       "                background: #F44336;\n",
       "            }\n",
       "        </style>\n",
       "      <progress value='4' class='' max='5', style='width:300px; height:20px; vertical-align: middle;'></progress>\n",
       "      80.00% [4/5 2:02:08<30:32]\n",
       "    </div>\n",
       "    \n",
       "<table border=\"1\" class=\"dataframe\">\n",
       "  <thead>\n",
       "    <tr style=\"text-align: left;\">\n",
       "      <th>epoch</th>\n",
       "      <th>train_loss</th>\n",
       "      <th>valid_loss</th>\n",
       "      <th>accuracy</th>\n",
       "      <th>time</th>\n",
       "    </tr>\n",
       "  </thead>\n",
       "  <tbody>\n",
       "    <tr>\n",
       "      <td>0</td>\n",
       "      <td>2.819849</td>\n",
       "      <td>2.906512</td>\n",
       "      <td>0.516240</td>\n",
       "      <td>30:32</td>\n",
       "    </tr>\n",
       "    <tr>\n",
       "      <td>1</td>\n",
       "      <td>2.971144</td>\n",
       "      <td>2.902586</td>\n",
       "      <td>0.516919</td>\n",
       "      <td>30:31</td>\n",
       "    </tr>\n",
       "    <tr>\n",
       "      <td>2</td>\n",
       "      <td>2.722646</td>\n",
       "      <td>2.898757</td>\n",
       "      <td>0.517735</td>\n",
       "      <td>30:31</td>\n",
       "    </tr>\n",
       "    <tr>\n",
       "      <td>3</td>\n",
       "      <td>2.888450</td>\n",
       "      <td>2.895185</td>\n",
       "      <td>0.518327</td>\n",
       "      <td>30:32</td>\n",
       "    </tr>\n",
       "  </tbody>\n",
       "</table><p>\n",
       "\n",
       "    <div>\n",
       "        <style>\n",
       "            /* Turns off some styling */\n",
       "            progress {\n",
       "                /* gets rid of default border in Firefox and Opera. */\n",
       "                border: none;\n",
       "                /* Needs to be in here for Safari polyfill so background images work as expected. */\n",
       "                background-size: auto;\n",
       "            }\n",
       "            .progress-bar-interrupted, .progress-bar-interrupted::-webkit-progress-bar {\n",
       "                background: #F44336;\n",
       "            }\n",
       "        </style>\n",
       "      <progress value='1037' class='' max='2014', style='width:300px; height:20px; vertical-align: middle;'></progress>\n",
       "      51.49% [1037/2014 01:12<01:08]\n",
       "    </div>\n",
       "    "
      ],
      "text/plain": [
       "<IPython.core.display.HTML object>"
      ]
     },
     "metadata": {},
     "output_type": "display_data"
    }
   ],
   "source": [
    "learn.fit_one_cycle(5, 1e-4, moms=(0.8,0.7))\n",
    "learn.save('fourth', with_opt=True)"
   ]
  },
  {
   "cell_type": "code",
   "execution_count": 23,
   "metadata": {},
   "outputs": [],
   "source": [
    "learn.load('fourth', with_opt=True);"
   ]
  },
  {
   "cell_type": "code",
   "execution_count": null,
   "metadata": {},
   "outputs": [],
   "source": []
  },
  {
   "cell_type": "code",
   "execution_count": 24,
   "metadata": {},
   "outputs": [],
   "source": [
    "TEXT = \"ఇది మండల కేంద్రమైన రంపచోడవరం నుండి\"\n",
    "N_WORDS = 20\n",
    "N_SENTENCES = 2"
   ]
  },
  {
   "cell_type": "code",
   "execution_count": 25,
   "metadata": {},
   "outputs": [
    {
     "name": "stdout",
     "output_type": "stream",
     "text": [
      "ఇది మండల కేంద్రమైన రంపచోడవరం నుండి ▁10 ▁కి . ▁మీ . ▁దూరంలో ▁ఉంది . ▁2011 ▁భారత ▁జనగణన ▁గణాంకాల ▁ప్రకారం ▁ఈ ▁గ్రామం ▁2 85 ▁ఇళ్లతో , ▁7\n",
      "ఇది మండల కేంద్రమైన రంపచోడవరం నుండి ▁5 ▁కి . ▁మీ . ▁దూరం ▁లోను , ▁సమీప ▁పట్టణమైన ▁రాజమహేంద్రవరం ▁నుండి ▁54 ▁కి . ▁మీ . ▁దూరంలోనూ ▁ఉంది .\n"
     ]
    }
   ],
   "source": [
    "print(\"\\n\".join(learn.predict(TEXT, N_WORDS, temperature=0.9) for _ in range(N_SENTENCES)))"
   ]
  },
  {
   "cell_type": "code",
   "execution_count": null,
   "metadata": {},
   "outputs": [],
   "source": []
  },
  {
   "cell_type": "code",
   "execution_count": null,
   "metadata": {},
   "outputs": [],
   "source": []
  },
  {
   "cell_type": "markdown",
   "metadata": {},
   "source": [
    "### Extract embeddings"
   ]
  },
  {
   "cell_type": "code",
   "execution_count": 26,
   "metadata": {},
   "outputs": [],
   "source": [
    "defaults.device = torch.device('cpu')\n",
    "learn.model.eval()\n",
    "learn.export()"
   ]
  },
  {
   "cell_type": "code",
   "execution_count": 27,
   "metadata": {},
   "outputs": [],
   "source": [
    "# Generating embedding vectors for visualization"
   ]
  },
  {
   "cell_type": "code",
   "execution_count": 28,
   "metadata": {},
   "outputs": [],
   "source": [
    "telugu_lm_path = os.path.join(working_path)"
   ]
  },
  {
   "cell_type": "code",
   "execution_count": 29,
   "metadata": {},
   "outputs": [],
   "source": [
    "!rm -rf models\\"
   ]
  },
  {
   "cell_type": "code",
   "execution_count": 30,
   "metadata": {},
   "outputs": [
    {
     "name": "stdout",
     "output_type": "stream",
     "text": [
      "__notebook__.ipynb  __output__.json  export.pkl  models  telugu_lm.data\r\n"
     ]
    }
   ],
   "source": [
    "!ls"
   ]
  },
  {
   "cell_type": "code",
   "execution_count": 31,
   "metadata": {},
   "outputs": [
    {
     "data": {
      "text/html": [],
      "text/plain": [
       "<IPython.core.display.HTML object>"
      ]
     },
     "metadata": {},
     "output_type": "display_data"
    },
    {
     "data": {
      "text/html": [],
      "text/plain": [
       "<IPython.core.display.HTML object>"
      ]
     },
     "metadata": {},
     "output_type": "display_data"
    }
   ],
   "source": [
    "learn = load_learner(working_path)"
   ]
  },
  {
   "cell_type": "code",
   "execution_count": 32,
   "metadata": {},
   "outputs": [
    {
     "data": {
      "text/plain": [
       "torch.Size([25000, 400])"
      ]
     },
     "execution_count": 32,
     "metadata": {},
     "output_type": "execute_result"
    }
   ],
   "source": [
    "encoder = get_model(learn.model)[0]\n",
    "encoder.state_dict()['encoder.weight'].shape"
   ]
  },
  {
   "cell_type": "code",
   "execution_count": 33,
   "metadata": {},
   "outputs": [
    {
     "data": {
      "text/plain": [
       "(400,)"
      ]
     },
     "execution_count": 33,
     "metadata": {},
     "output_type": "execute_result"
    }
   ],
   "source": [
    "embeddings = encoder.state_dict()['encoder.weight']\n",
    "embeddings = np.array(embeddings)\n",
    "embeddings[0].shape"
   ]
  },
  {
   "cell_type": "code",
   "execution_count": 34,
   "metadata": {},
   "outputs": [
    {
     "data": {
      "text/plain": [
       "(25000, 400)"
      ]
     },
     "execution_count": 34,
     "metadata": {},
     "output_type": "execute_result"
    }
   ],
   "source": [
    "df1 = pd.DataFrame(embeddings)\n",
    "df1.shape"
   ]
  },
  {
   "cell_type": "code",
   "execution_count": 35,
   "metadata": {},
   "outputs": [],
   "source": [
    "df1.index = itos"
   ]
  },
  {
   "cell_type": "code",
   "execution_count": 36,
   "metadata": {},
   "outputs": [
    {
     "data": {
      "text/html": [
       "<div>\n",
       "<style scoped>\n",
       "    .dataframe tbody tr th:only-of-type {\n",
       "        vertical-align: middle;\n",
       "    }\n",
       "\n",
       "    .dataframe tbody tr th {\n",
       "        vertical-align: top;\n",
       "    }\n",
       "\n",
       "    .dataframe thead th {\n",
       "        text-align: right;\n",
       "    }\n",
       "</style>\n",
       "<table border=\"1\" class=\"dataframe\">\n",
       "  <thead>\n",
       "    <tr style=\"text-align: right;\">\n",
       "      <th></th>\n",
       "      <th>0</th>\n",
       "      <th>1</th>\n",
       "      <th>2</th>\n",
       "      <th>3</th>\n",
       "      <th>4</th>\n",
       "      <th>5</th>\n",
       "      <th>6</th>\n",
       "      <th>7</th>\n",
       "      <th>8</th>\n",
       "      <th>9</th>\n",
       "      <th>...</th>\n",
       "      <th>390</th>\n",
       "      <th>391</th>\n",
       "      <th>392</th>\n",
       "      <th>393</th>\n",
       "      <th>394</th>\n",
       "      <th>395</th>\n",
       "      <th>396</th>\n",
       "      <th>397</th>\n",
       "      <th>398</th>\n",
       "      <th>399</th>\n",
       "    </tr>\n",
       "  </thead>\n",
       "  <tbody>\n",
       "    <tr>\n",
       "      <th>&lt;unk&gt;</th>\n",
       "      <td>0.033508</td>\n",
       "      <td>-0.498047</td>\n",
       "      <td>0.052155</td>\n",
       "      <td>0.076111</td>\n",
       "      <td>-0.109070</td>\n",
       "      <td>-0.419434</td>\n",
       "      <td>-0.423096</td>\n",
       "      <td>-0.906250</td>\n",
       "      <td>0.255859</td>\n",
       "      <td>0.024567</td>\n",
       "      <td>...</td>\n",
       "      <td>0.006126</td>\n",
       "      <td>0.132324</td>\n",
       "      <td>-0.127075</td>\n",
       "      <td>0.085022</td>\n",
       "      <td>0.118164</td>\n",
       "      <td>-0.517578</td>\n",
       "      <td>-0.308838</td>\n",
       "      <td>-0.109070</td>\n",
       "      <td>0.064819</td>\n",
       "      <td>0.275391</td>\n",
       "    </tr>\n",
       "    <tr>\n",
       "      <th>&lt;s&gt;</th>\n",
       "      <td>0.029022</td>\n",
       "      <td>-0.080444</td>\n",
       "      <td>0.018326</td>\n",
       "      <td>0.002062</td>\n",
       "      <td>-0.149780</td>\n",
       "      <td>-0.038666</td>\n",
       "      <td>-0.079590</td>\n",
       "      <td>-0.228394</td>\n",
       "      <td>0.162109</td>\n",
       "      <td>0.166382</td>\n",
       "      <td>...</td>\n",
       "      <td>0.125488</td>\n",
       "      <td>-0.074646</td>\n",
       "      <td>-0.074768</td>\n",
       "      <td>0.086609</td>\n",
       "      <td>0.083923</td>\n",
       "      <td>-0.805176</td>\n",
       "      <td>-0.387695</td>\n",
       "      <td>-0.140747</td>\n",
       "      <td>0.143677</td>\n",
       "      <td>0.050018</td>\n",
       "    </tr>\n",
       "    <tr>\n",
       "      <th>&lt;/s&gt;</th>\n",
       "      <td>0.029022</td>\n",
       "      <td>-0.080444</td>\n",
       "      <td>0.018326</td>\n",
       "      <td>0.002062</td>\n",
       "      <td>-0.149780</td>\n",
       "      <td>-0.038666</td>\n",
       "      <td>-0.079590</td>\n",
       "      <td>-0.228394</td>\n",
       "      <td>0.162109</td>\n",
       "      <td>0.166382</td>\n",
       "      <td>...</td>\n",
       "      <td>0.125488</td>\n",
       "      <td>-0.074646</td>\n",
       "      <td>-0.074768</td>\n",
       "      <td>0.086609</td>\n",
       "      <td>0.083923</td>\n",
       "      <td>-0.805176</td>\n",
       "      <td>-0.387695</td>\n",
       "      <td>-0.140747</td>\n",
       "      <td>0.143677</td>\n",
       "      <td>0.050018</td>\n",
       "    </tr>\n",
       "    <tr>\n",
       "      <th>.</th>\n",
       "      <td>0.435791</td>\n",
       "      <td>-0.795410</td>\n",
       "      <td>-0.090942</td>\n",
       "      <td>0.468506</td>\n",
       "      <td>-0.099426</td>\n",
       "      <td>-0.093018</td>\n",
       "      <td>-0.071045</td>\n",
       "      <td>-0.505859</td>\n",
       "      <td>0.813965</td>\n",
       "      <td>0.096252</td>\n",
       "      <td>...</td>\n",
       "      <td>0.080994</td>\n",
       "      <td>0.572266</td>\n",
       "      <td>-0.108826</td>\n",
       "      <td>0.031738</td>\n",
       "      <td>0.068115</td>\n",
       "      <td>-0.408691</td>\n",
       "      <td>-0.579102</td>\n",
       "      <td>-0.247559</td>\n",
       "      <td>0.231323</td>\n",
       "      <td>0.189697</td>\n",
       "    </tr>\n",
       "    <tr>\n",
       "      <th>,</th>\n",
       "      <td>0.075378</td>\n",
       "      <td>-0.594727</td>\n",
       "      <td>0.108521</td>\n",
       "      <td>0.096985</td>\n",
       "      <td>-0.294189</td>\n",
       "      <td>-0.084534</td>\n",
       "      <td>-0.066284</td>\n",
       "      <td>-0.394287</td>\n",
       "      <td>0.268311</td>\n",
       "      <td>0.135620</td>\n",
       "      <td>...</td>\n",
       "      <td>0.017410</td>\n",
       "      <td>0.421631</td>\n",
       "      <td>-0.127197</td>\n",
       "      <td>-0.021179</td>\n",
       "      <td>0.344238</td>\n",
       "      <td>-0.576660</td>\n",
       "      <td>-0.520508</td>\n",
       "      <td>0.031021</td>\n",
       "      <td>0.211670</td>\n",
       "      <td>0.397949</td>\n",
       "    </tr>\n",
       "  </tbody>\n",
       "</table>\n",
       "<p>5 rows × 400 columns</p>\n",
       "</div>"
      ],
      "text/plain": [
       "            0         1         2         3         4         5         6    \\\n",
       "<unk>  0.033508 -0.498047  0.052155  0.076111 -0.109070 -0.419434 -0.423096   \n",
       "<s>    0.029022 -0.080444  0.018326  0.002062 -0.149780 -0.038666 -0.079590   \n",
       "</s>   0.029022 -0.080444  0.018326  0.002062 -0.149780 -0.038666 -0.079590   \n",
       ".      0.435791 -0.795410 -0.090942  0.468506 -0.099426 -0.093018 -0.071045   \n",
       ",      0.075378 -0.594727  0.108521  0.096985 -0.294189 -0.084534 -0.066284   \n",
       "\n",
       "            7         8         9    ...       390       391       392  \\\n",
       "<unk> -0.906250  0.255859  0.024567  ...  0.006126  0.132324 -0.127075   \n",
       "<s>   -0.228394  0.162109  0.166382  ...  0.125488 -0.074646 -0.074768   \n",
       "</s>  -0.228394  0.162109  0.166382  ...  0.125488 -0.074646 -0.074768   \n",
       ".     -0.505859  0.813965  0.096252  ...  0.080994  0.572266 -0.108826   \n",
       ",     -0.394287  0.268311  0.135620  ...  0.017410  0.421631 -0.127197   \n",
       "\n",
       "            393       394       395       396       397       398       399  \n",
       "<unk>  0.085022  0.118164 -0.517578 -0.308838 -0.109070  0.064819  0.275391  \n",
       "<s>    0.086609  0.083923 -0.805176 -0.387695 -0.140747  0.143677  0.050018  \n",
       "</s>   0.086609  0.083923 -0.805176 -0.387695 -0.140747  0.143677  0.050018  \n",
       ".      0.031738  0.068115 -0.408691 -0.579102 -0.247559  0.231323  0.189697  \n",
       ",     -0.021179  0.344238 -0.576660 -0.520508  0.031021  0.211670  0.397949  \n",
       "\n",
       "[5 rows x 400 columns]"
      ]
     },
     "execution_count": 36,
     "metadata": {},
     "output_type": "execute_result"
    }
   ],
   "source": [
    "df1.head()"
   ]
  },
  {
   "cell_type": "code",
   "execution_count": 37,
   "metadata": {},
   "outputs": [],
   "source": [
    "df1.to_csv('embedding_vectors.tsv', sep='\\t', index = False, header=False)"
   ]
  },
  {
   "cell_type": "code",
   "execution_count": 38,
   "metadata": {},
   "outputs": [
    {
     "data": {
      "text/plain": [
       "(25000, 1)"
      ]
     },
     "execution_count": 38,
     "metadata": {},
     "output_type": "execute_result"
    }
   ],
   "source": [
    "df2 = pd.DataFrame(itos)\n",
    "df2.shape"
   ]
  },
  {
   "cell_type": "code",
   "execution_count": 39,
   "metadata": {},
   "outputs": [
    {
     "data": {
      "text/html": [
       "<div>\n",
       "<style scoped>\n",
       "    .dataframe tbody tr th:only-of-type {\n",
       "        vertical-align: middle;\n",
       "    }\n",
       "\n",
       "    .dataframe tbody tr th {\n",
       "        vertical-align: top;\n",
       "    }\n",
       "\n",
       "    .dataframe thead th {\n",
       "        text-align: right;\n",
       "    }\n",
       "</style>\n",
       "<table border=\"1\" class=\"dataframe\">\n",
       "  <thead>\n",
       "    <tr style=\"text-align: right;\">\n",
       "      <th></th>\n",
       "      <th>0</th>\n",
       "    </tr>\n",
       "  </thead>\n",
       "  <tbody>\n",
       "    <tr>\n",
       "      <th>0</th>\n",
       "      <td>&lt;unk&gt;</td>\n",
       "    </tr>\n",
       "    <tr>\n",
       "      <th>1</th>\n",
       "      <td>&lt;s&gt;</td>\n",
       "    </tr>\n",
       "    <tr>\n",
       "      <th>2</th>\n",
       "      <td>&lt;/s&gt;</td>\n",
       "    </tr>\n",
       "    <tr>\n",
       "      <th>3</th>\n",
       "      <td>.</td>\n",
       "    </tr>\n",
       "    <tr>\n",
       "      <th>4</th>\n",
       "      <td>,</td>\n",
       "    </tr>\n",
       "  </tbody>\n",
       "</table>\n",
       "</div>"
      ],
      "text/plain": [
       "       0\n",
       "0  <unk>\n",
       "1    <s>\n",
       "2   </s>\n",
       "3      .\n",
       "4      ,"
      ]
     },
     "execution_count": 39,
     "metadata": {},
     "output_type": "execute_result"
    }
   ],
   "source": [
    "df2.head()"
   ]
  },
  {
   "cell_type": "code",
   "execution_count": 40,
   "metadata": {},
   "outputs": [],
   "source": [
    "df2.to_csv('embeddings_metadata.tsv', sep='\\t', index=False, header=False)"
   ]
  },
  {
   "cell_type": "code",
   "execution_count": 41,
   "metadata": {},
   "outputs": [],
   "source": [
    "### "
   ]
  }
 ],
 "metadata": {
  "kernelspec": {
   "display_name": "Python 3",
   "language": "python",
   "name": "python3"
  },
  "language_info": {
   "codemirror_mode": {
    "name": "ipython",
    "version": 3
   },
   "file_extension": ".py",
   "mimetype": "text/x-python",
   "name": "python",
   "nbconvert_exporter": "python",
   "pygments_lexer": "ipython3",
   "version": "3.6.6"
  }
 },
 "nbformat": 4,
 "nbformat_minor": 1
}
