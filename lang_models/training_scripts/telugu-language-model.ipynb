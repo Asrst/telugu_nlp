{
 "cells": [
  {
   "cell_type": "code",
   "execution_count": 1,
   "metadata": {},
   "outputs": [],
   "source": [
    "!pip -q install inltk"
   ]
  },
  {
   "cell_type": "code",
   "execution_count": 2,
   "metadata": {},
   "outputs": [
    {
     "name": "stdout",
     "output_type": "stream",
     "text": [
      "/kaggle/input/telugu-wikipedia-data/telugu_wiki_links.csv\n",
      "/kaggle/input/telugu-wikipedia-data/telugu_wikipedia_dataset.parquet\n",
      "/kaggle/input/telugu-sentencepiece-tokenizer/telugu_tok.vocab\n",
      "/kaggle/input/telugu-sentencepiece-tokenizer/telugu_tok.model\n",
      "/kaggle/input/telugu-sentencepiece-tokenizer/__results__.html\n",
      "/kaggle/input/telugu-sentencepiece-tokenizer/TeluguWikiSentences.txt\n",
      "/kaggle/input/telugu-sentencepiece-tokenizer/__notebook__.ipynb\n",
      "/kaggle/input/telugu-sentencepiece-tokenizer/custom.css\n",
      "/kaggle/input/telugu-sentencepiece-tokenizer/__output__.json\n"
     ]
    }
   ],
   "source": [
    "%reload_ext autoreload\n",
    "%autoreload 2\n",
    "%matplotlib inline\n",
    "\n",
    "import pandas as pd\n",
    "import numpy as np\n",
    "import re\n",
    "import os\n",
    "import sentencepiece as spm\n",
    "import pickle\n",
    "import pathlib\n",
    "from fastai.text import *\n",
    "torch.cuda.set_device(0)\n",
    "\n",
    "working_path = '/kaggle/working'\n",
    "input_data_path = '/kaggle/input'\n",
    "\n",
    "data_paths = {}\n",
    "for dirname, _, filenames in os.walk(input_data_path):\n",
    "    for filename in filenames:\n",
    "        data_paths[filename] = os.path.join(dirname, filename)\n",
    "        print(os.path.join(dirname, filename))"
   ]
  },
  {
   "cell_type": "code",
   "execution_count": 3,
   "metadata": {},
   "outputs": [
    {
     "data": {
      "text/plain": [
       "('1.0.57', '1.3.0')"
      ]
     },
     "execution_count": 3,
     "metadata": {},
     "output_type": "execute_result"
    }
   ],
   "source": [
    "import fastai, torch\n",
    "fastai.__version__ , torch.__version__"
   ]
  },
  {
   "cell_type": "code",
   "execution_count": 4,
   "metadata": {},
   "outputs": [
    {
     "data": {
      "text/plain": [
       "((99052, 2), Index(['title', 'text'], dtype='object'))"
      ]
     },
     "execution_count": 4,
     "metadata": {},
     "output_type": "execute_result"
    }
   ],
   "source": [
    "tel_df = pd.read_parquet(data_paths['telugu_wikipedia_dataset.parquet'])\n",
    "tel_df.shape, tel_df.columns"
   ]
  },
  {
   "cell_type": "code",
   "execution_count": 5,
   "metadata": {},
   "outputs": [
    {
     "name": "stdout",
     "output_type": "stream",
     "text": [
      "94435\n"
     ]
    }
   ],
   "source": [
    "texts = (tel_df['title'] + ' ' + tel_df['text']).tolist()\n",
    "texts = [t for t in tel_df['text'] if len(t.strip())>1]\n",
    "print(len(texts))"
   ]
  },
  {
   "cell_type": "code",
   "execution_count": 6,
   "metadata": {},
   "outputs": [],
   "source": [
    "df = pd.DataFrame(texts, columns = ['text'])"
   ]
  },
  {
   "cell_type": "code",
   "execution_count": 7,
   "metadata": {},
   "outputs": [
    {
     "data": {
      "text/plain": [
       "117"
      ]
     },
     "execution_count": 7,
     "metadata": {},
     "output_type": "execute_result"
    }
   ],
   "source": [
    "del tel_df, texts\n",
    "gc.collect()"
   ]
  },
  {
   "cell_type": "code",
   "execution_count": 8,
   "metadata": {},
   "outputs": [
    {
     "data": {
      "text/plain": [
       "((75548, 1), (18887, 1))"
      ]
     },
     "execution_count": 8,
     "metadata": {},
     "output_type": "execute_result"
    }
   ],
   "source": [
    "from sklearn.model_selection import train_test_split\n",
    "train_df, test_df = train_test_split(df, test_size=0.2)\n",
    "train_df.shape, test_df.shape"
   ]
  },
  {
   "cell_type": "code",
   "execution_count": 9,
   "metadata": {},
   "outputs": [],
   "source": [
    "sp = spm.SentencePieceProcessor()\n",
    "sp.Load(data_paths['telugu_tok.model'])\n",
    "itos = [sp.IdToPiece(int(i)) for i in range(25000)] # 25,000 is the vocab_size selected in sm tokenizer\n",
    "telugu_vocab = Vocab(itos)"
   ]
  },
  {
   "cell_type": "code",
   "execution_count": 10,
   "metadata": {},
   "outputs": [
    {
     "name": "stdout",
     "output_type": "stream",
     "text": [
      "1.0.57\n"
     ]
    },
    {
     "data": {
      "text/plain": [
       "['xxunk',\n",
       " 'xxpad',\n",
       " 'xxbos',\n",
       " 'xxeos',\n",
       " 'xxfld',\n",
       " 'xxmaj',\n",
       " 'xxup',\n",
       " 'xxrep',\n",
       " 'xxwrep']"
      ]
     },
     "execution_count": 10,
     "metadata": {},
     "output_type": "execute_result"
    }
   ],
   "source": [
    "from telugu_tokenizer_class_fastai import TeluguTokenizer\n",
    "tokenizer = Tokenizer(tok_func=TeluguTokenizer, lang='te')\n",
    "tokenizer.special_cases"
   ]
  },
  {
   "cell_type": "code",
   "execution_count": 11,
   "metadata": {},
   "outputs": [
    {
     "data": {
      "text/html": [],
      "text/plain": [
       "<IPython.core.display.HTML object>"
      ]
     },
     "metadata": {},
     "output_type": "display_data"
    },
    {
     "data": {
      "text/html": [],
      "text/plain": [
       "<IPython.core.display.HTML object>"
      ]
     },
     "metadata": {},
     "output_type": "display_data"
    },
    {
     "name": "stderr",
     "output_type": "stream",
     "text": [
      "/opt/conda/lib/python3.6/site-packages/torch/serialization.py:292: UserWarning: Couldn't retrieve source code for container of type CrossEntropyLoss. It won't be checked for correctness upon loading.\n",
      "  \"type \" + obj.__name__ + \". It won't be checked \"\n"
     ]
    }
   ],
   "source": [
    "data_lm = TextLMDataBunch.from_df(working_path, train_df=train_df, valid_df=test_df,\n",
    "                                  text_cols=[\"text\"], bs=96,\n",
    "                                  tokenizer=tokenizer, vocab=telugu_vocab) # default bs=64\n",
    "data_lm.save('telugu_lm.data')"
   ]
  },
  {
   "cell_type": "code",
   "execution_count": 12,
   "metadata": {},
   "outputs": [
    {
     "data": {
      "text/html": [
       "<table border=\"1\" class=\"dataframe\">\n",
       "  <thead>\n",
       "    <tr style=\"text-align: right;\">\n",
       "      <th>idx</th>\n",
       "      <th>text</th>\n",
       "    </tr>\n",
       "  </thead>\n",
       "  <tbody>\n",
       "    <tr>\n",
       "      <td>0</td>\n",
       "      <td>35 ▁జనాభాతో ▁5 01 ▁హెక్టార్లలో ▁విస్తరించి ▁ఉంది . ▁గ్రామంలో ▁మగవారి ▁సంఖ్య ▁4 63 , ▁ఆడవారి ▁సంఖ్య ▁4 72 . ▁షెడ్యూల్డ్ ▁కులాల ▁సంఖ్య ▁89 ▁కాగా ▁షెడ్యూల్డ్ ▁తెగల ▁సంఖ్య ▁84 . ▁గ్రామం ▁యొక్క ▁జనగణన ▁లొకేషన్ ▁కోడ్ ▁57 38 46 [2]. పిన్ ▁కోడ్ : ▁50 23 06 . ▁గ్రామంలో ▁ప్రభుత్వ ▁ప్రాథమిక ▁పాఠశాల ▁ఒకటి ▁ఉంది . సమీప ▁బాలబడి , ▁ప్రాథమిక ▁పాఠశాల ▁తో గుర్ ▁ పల్లిలోను , ▁ప్రాథమికోన్నత ▁పాఠశాల ▁పెద్ద ాపూర్ ▁( స దా శివ</td>\n",
       "    </tr>\n",
       "    <tr>\n",
       "      <td>1</td>\n",
       "      <td>నుండి , ▁వరల్డ్ ▁ఛ ె స్ ▁ఫెడరేషన్ ▁మరియూ ▁ఇంటర్నేషనల్ ▁కర స్ పా ండె న్స్ ▁ఛ ె స్ ▁ఫెడరేషన్ , ▁అను ▁రెండు ▁అంతర్జాతీయ ▁సంస్థలు ▁చదరంగ ం ▁ఆటల ▁పోటీ లను ▁నిర్వహిస్తున్న ాయి . ▁కంప్యూటర్ ▁ శాస్త్రజ్ఞుల ▁ఒక ▁లక్ష్యం , ▁కంప్యూటర్ ▁చదరంగ ాన్ని ▁సృష్టించడం , ▁అంటే ▁చదరంగ ం ▁ఆడే ▁కంప్యూటర్ ▁ని ▁సృష్టించడం . ▁ఈ ▁రోజున ▁కంప్యూటర్ ▁చదరంగ ▁ సామర్ధ్య త ▁ప్రభావం ▁నేటి ▁ఆట ▁మీద ▁ఎంతో ▁ఉంది . ▁1997 ▁లో ▁అప్పటి ▁ప్రపంచ ▁ఛాంపియన్ ▁అయిన</td>\n",
       "    </tr>\n",
       "    <tr>\n",
       "      <td>2</td>\n",
       "      <td>చే శాయి , ▁రాజస్థాన్ ▁పై ▁తన ▁నియంత్రణ ▁కోల్పోయిన ా ▁సిం ధి యా ▁బ్రిటీష్ ▁సైన్యానికి ▁భయపడి ▁తటస్థ ంగా ▁ఉండి పోయాడు . ▁బ్రిటీష్ ▁వారు ▁చాలా ▁వేగంగా ▁విజయాలు ▁అందుకున్నారు . ▁ఫలితంగా ▁మరాఠా ▁సామ్రాజ్యం ▁ముక్క లై , ▁మరాఠా లు ▁స్వాతంత్ర్యం ▁కోల్పోయారు . ▁ఖ డ్ కి , ▁కో రె గావ్ ▁యుద్ధ ాల్లో ▁పీ ష్ వా ▁ఓడిపోయాడు . ▁పీ ష్ వా ▁బందీ ▁కాకుండా ▁అడ్డ ుకునేందుకు ▁పీ ష్ వా ▁సైన్యాలు ▁అనేక ▁చిన్న ా ▁ చిత కా ▁పోరాటాలు</td>\n",
       "    </tr>\n",
       "    <tr>\n",
       "      <td>3</td>\n",
       "      <td>▁లోయ లు ▁ఉన్నాయి ▁మరియు ▁యా ర్ల ంగ్ ▁త్సాంగ్ పో ▁నది ▁( బ్రహ్మ పుత్ర ▁యొక్క ▁పై ▁కాలువ ) ▁మరియు ▁దాని ▁ప్రధాన ▁ఉప నది ▁అయిన , ▁నయం గ్ ▁నది , ▁సల్ వీ న్ , ▁ యాంగ్ ట్ జే , ▁మె కా ంగ్ , ▁మరియు ▁ఎల్ లో ▁నది ▁ఉన్నాయి . ▁ఈ ▁నది లోని ▁గుర్రపు ▁లా డం ▁వంపు ▁వలన ▁ఏర్పడిన ▁యా ర్ల ంగ్ ▁త్సాంగ్ పో ▁కాన్ యాన్ ▁ప్రపంచములో ▁అత్యంత ▁లోతైన ▁మరియు ▁అతి ▁పొడవైన ▁పెను</td>\n",
       "    </tr>\n",
       "    <tr>\n",
       "      <td>4</td>\n",
       "      <td>, ▁అతను ▁మెకానికల్ ▁ఇంజనీరింగ్ ▁అభ్యసించ టానికి ▁కేంబ్రిడ్జ్ ▁విశ్వవిద్యాలయం ▁య ెుక్క ▁కై స్ ▁కళాశాల కు ▁హాజరైన ారు . ▁మెకానికల్ ▁ఇంజనీరింగ్ ▁పొందిన ▁తరువాత , ▁మ్యా థ మె టిక్స్ ▁ట్రి పో స్ ▁ను ▁పూర్తి ▁చేయడానికి ▁పాల్ ▁డి రాక్ ▁వద్ద ▁అభ్యసించారు . ▁ఈ ▁మధ్యలో , ▁అతను ▁కా వె ండి ష్ ▁లే బ రే టరీ లో &lt;unk&gt; ▁r . &lt;unk&gt; ▁h . ▁ఫౌ లర్ ▁వద్ద ▁సిద్ధాంత పరమైన ▁భౌతికశాస్త్ర ంలో ▁డాక్టరేట్ ▁కొరకు ▁పనిచేస్తూ ▁ఇక్కడ ▁పనిచేశారు .</td>\n",
       "    </tr>\n",
       "  </tbody>\n",
       "</table>"
      ],
      "text/plain": [
       "<IPython.core.display.HTML object>"
      ]
     },
     "metadata": {},
     "output_type": "display_data"
    }
   ],
   "source": [
    "data_lm.show_batch()"
   ]
  },
  {
   "cell_type": "code",
   "execution_count": 13,
   "metadata": {},
   "outputs": [
    {
     "data": {
      "text/plain": [
       "25000"
      ]
     },
     "execution_count": 13,
     "metadata": {},
     "output_type": "execute_result"
    }
   ],
   "source": [
    "len(data_lm.vocab.itos)"
   ]
  },
  {
   "cell_type": "code",
   "execution_count": 14,
   "metadata": {},
   "outputs": [
    {
     "name": "stdout",
     "output_type": "stream",
     "text": [
      "Downloading https://s3.amazonaws.com/fast-ai-modelzoo/wt103-fwd\n"
     ]
    },
    {
     "data": {
      "text/html": [],
      "text/plain": [
       "<IPython.core.display.HTML object>"
      ]
     },
     "metadata": {},
     "output_type": "display_data"
    }
   ],
   "source": [
    "learn = language_model_learner(data_lm, AWD_LSTM, drop_mult=0.25)\n",
    "learn = learn.to_fp16(clip=0.1)"
   ]
  },
  {
   "cell_type": "code",
   "execution_count": 15,
   "metadata": {},
   "outputs": [
    {
     "data": {
      "text/html": [],
      "text/plain": [
       "<IPython.core.display.HTML object>"
      ]
     },
     "metadata": {},
     "output_type": "display_data"
    },
    {
     "name": "stdout",
     "output_type": "stream",
     "text": [
      "LR Finder is complete, type {learner_name}.recorder.plot() to see the graph.\n"
     ]
    },
    {
     "data": {
      "image/png": "[encoded data removed]",
      "text/plain": [
       "<Figure size 432x288 with 1 Axes>"
      ]
     },
     "metadata": {
      "needs_background": "light"
     },
     "output_type": "display_data"
    }
   ],
   "source": [
    "learn.lr_find()\n",
    "learn.recorder.plot()"
   ]
  },
  {
   "cell_type": "code",
   "execution_count": 16,
   "metadata": {},
   "outputs": [
    {
     "data": {
      "text/html": [
       "\n",
       "    <div>\n",
       "        <style>\n",
       "            /* Turns off some styling */\n",
       "            progress {\n",
       "                /* gets rid of default border in Firefox and Opera. */\n",
       "                border: none;\n",
       "                /* Needs to be in here for Safari polyfill so background images work as expected. */\n",
       "                background-size: auto;\n",
       "            }\n",
       "            .progress-bar-interrupted, .progress-bar-interrupted::-webkit-progress-bar {\n",
       "                background: #F44336;\n",
       "            }\n",
       "        </style>\n",
       "      <progress value='0' class='' max='1', style='width:300px; height:20px; vertical-align: middle;'></progress>\n",
       "      0.00% [0/1 00:00<00:00]\n",
       "    </div>\n",
       "    \n",
       "<table border=\"1\" class=\"dataframe\">\n",
       "  <thead>\n",
       "    <tr style=\"text-align: left;\">\n",
       "      <th>epoch</th>\n",
       "      <th>train_loss</th>\n",
       "      <th>valid_loss</th>\n",
       "      <th>accuracy</th>\n",
       "      <th>time</th>\n",
       "    </tr>\n",
       "  </thead>\n",
       "  <tbody>\n",
       "  </tbody>\n",
       "</table><p>\n",
       "\n",
       "    <div>\n",
       "        <style>\n",
       "            /* Turns off some styling */\n",
       "            progress {\n",
       "                /* gets rid of default border in Firefox and Opera. */\n",
       "                border: none;\n",
       "                /* Needs to be in here for Safari polyfill so background images work as expected. */\n",
       "                background-size: auto;\n",
       "            }\n",
       "            .progress-bar-interrupted, .progress-bar-interrupted::-webkit-progress-bar {\n",
       "                background: #F44336;\n",
       "            }\n",
       "        </style>\n",
       "      <progress value='1461' class='' max='2034', style='width:300px; height:20px; vertical-align: middle;'></progress>\n",
       "      71.83% [1461/2034 01:42<00:40]\n",
       "    </div>\n",
       "    "
      ],
      "text/plain": [
       "<IPython.core.display.HTML object>"
      ]
     },
     "metadata": {},
     "output_type": "display_data"
    }
   ],
   "source": [
    "learn.fit_one_cycle(1, 1e-2, moms=(0.8,0.7))\n",
    "learn.save('first', with_opt=True)"
   ]
  },
  {
   "cell_type": "code",
   "execution_count": 17,
   "metadata": {},
   "outputs": [],
   "source": [
    "learn.load('first', with_opt=True);"
   ]
  },
  {
   "cell_type": "code",
   "execution_count": 18,
   "metadata": {},
   "outputs": [
    {
     "data": {
      "text/html": [
       "\n",
       "    <div>\n",
       "        <style>\n",
       "            /* Turns off some styling */\n",
       "            progress {\n",
       "                /* gets rid of default border in Firefox and Opera. */\n",
       "                border: none;\n",
       "                /* Needs to be in here for Safari polyfill so background images work as expected. */\n",
       "                background-size: auto;\n",
       "            }\n",
       "            .progress-bar-interrupted, .progress-bar-interrupted::-webkit-progress-bar {\n",
       "                background: #F44336;\n",
       "            }\n",
       "        </style>\n",
       "      <progress value='4' class='' max='5', style='width:300px; height:20px; vertical-align: middle;'></progress>\n",
       "      80.00% [4/5 2:01:12<30:18]\n",
       "    </div>\n",
       "    \n",
       "<table border=\"1\" class=\"dataframe\">\n",
       "  <thead>\n",
       "    <tr style=\"text-align: left;\">\n",
       "      <th>epoch</th>\n",
       "      <th>train_loss</th>\n",
       "      <th>valid_loss</th>\n",
       "      <th>accuracy</th>\n",
       "      <th>time</th>\n",
       "    </tr>\n",
       "  </thead>\n",
       "  <tbody>\n",
       "    <tr>\n",
       "      <td>0</td>\n",
       "      <td>3.615405</td>\n",
       "      <td>3.824482</td>\n",
       "      <td>0.408811</td>\n",
       "      <td>30:19</td>\n",
       "    </tr>\n",
       "    <tr>\n",
       "      <td>1</td>\n",
       "      <td>3.568444</td>\n",
       "      <td>3.696573</td>\n",
       "      <td>0.421402</td>\n",
       "      <td>30:17</td>\n",
       "    </tr>\n",
       "    <tr>\n",
       "      <td>2</td>\n",
       "      <td>3.526893</td>\n",
       "      <td>3.425028</td>\n",
       "      <td>0.447008</td>\n",
       "      <td>30:16</td>\n",
       "    </tr>\n",
       "    <tr>\n",
       "      <td>3</td>\n",
       "      <td>3.232996</td>\n",
       "      <td>3.125835</td>\n",
       "      <td>0.481430</td>\n",
       "      <td>30:17</td>\n",
       "    </tr>\n",
       "  </tbody>\n",
       "</table><p>\n",
       "\n",
       "    <div>\n",
       "        <style>\n",
       "            /* Turns off some styling */\n",
       "            progress {\n",
       "                /* gets rid of default border in Firefox and Opera. */\n",
       "                border: none;\n",
       "                /* Needs to be in here for Safari polyfill so background images work as expected. */\n",
       "                background-size: auto;\n",
       "            }\n",
       "            .progress-bar-interrupted, .progress-bar-interrupted::-webkit-progress-bar {\n",
       "                background: #F44336;\n",
       "            }\n",
       "        </style>\n",
       "      <progress value='2023' class='' max='2034', style='width:300px; height:20px; vertical-align: middle;'></progress>\n",
       "      99.46% [2023/2034 02:21<00:00]\n",
       "    </div>\n",
       "    "
      ],
      "text/plain": [
       "<IPython.core.display.HTML object>"
      ]
     },
     "metadata": {},
     "output_type": "display_data"
    }
   ],
   "source": [
    "learn.unfreeze()\n",
    "learn.fit_one_cycle(5, 1e-2, moms=(0.8,0.7))\n",
    "learn.save('second', with_opt=True)"
   ]
  },
  {
   "cell_type": "code",
   "execution_count": 19,
   "metadata": {},
   "outputs": [],
   "source": [
    "learn.load('second', with_opt=True);"
   ]
  },
  {
   "cell_type": "code",
   "execution_count": 20,
   "metadata": {},
   "outputs": [],
   "source": [
    "# learn.lr_find()\n",
    "# learn.recorder.plot()"
   ]
  },
  {
   "cell_type": "code",
   "execution_count": 21,
   "metadata": {},
   "outputs": [
    {
     "data": {
      "text/html": [
       "\n",
       "    <div>\n",
       "        <style>\n",
       "            /* Turns off some styling */\n",
       "            progress {\n",
       "                /* gets rid of default border in Firefox and Opera. */\n",
       "                border: none;\n",
       "                /* Needs to be in here for Safari polyfill so background images work as expected. */\n",
       "                background-size: auto;\n",
       "            }\n",
       "            .progress-bar-interrupted, .progress-bar-interrupted::-webkit-progress-bar {\n",
       "                background: #F44336;\n",
       "            }\n",
       "        </style>\n",
       "      <progress value='4' class='' max='5', style='width:300px; height:20px; vertical-align: middle;'></progress>\n",
       "      80.00% [4/5 2:01:13<30:18]\n",
       "    </div>\n",
       "    \n",
       "<table border=\"1\" class=\"dataframe\">\n",
       "  <thead>\n",
       "    <tr style=\"text-align: left;\">\n",
       "      <th>epoch</th>\n",
       "      <th>train_loss</th>\n",
       "      <th>valid_loss</th>\n",
       "      <th>accuracy</th>\n",
       "      <th>time</th>\n",
       "    </tr>\n",
       "  </thead>\n",
       "  <tbody>\n",
       "    <tr>\n",
       "      <td>0</td>\n",
       "      <td>3.022662</td>\n",
       "      <td>2.994272</td>\n",
       "      <td>0.501283</td>\n",
       "      <td>30:18</td>\n",
       "    </tr>\n",
       "    <tr>\n",
       "      <td>1</td>\n",
       "      <td>2.931357</td>\n",
       "      <td>2.975538</td>\n",
       "      <td>0.504437</td>\n",
       "      <td>30:19</td>\n",
       "    </tr>\n",
       "    <tr>\n",
       "      <td>2</td>\n",
       "      <td>2.998266</td>\n",
       "      <td>2.924863</td>\n",
       "      <td>0.512323</td>\n",
       "      <td>30:17</td>\n",
       "    </tr>\n",
       "    <tr>\n",
       "      <td>3</td>\n",
       "      <td>3.053375</td>\n",
       "      <td>2.889812</td>\n",
       "      <td>0.518073</td>\n",
       "      <td>30:16</td>\n",
       "    </tr>\n",
       "  </tbody>\n",
       "</table><p>\n",
       "\n",
       "    <div>\n",
       "        <style>\n",
       "            /* Turns off some styling */\n",
       "            progress {\n",
       "                /* gets rid of default border in Firefox and Opera. */\n",
       "                border: none;\n",
       "                /* Needs to be in here for Safari polyfill so background images work as expected. */\n",
       "                background-size: auto;\n",
       "            }\n",
       "            .progress-bar-interrupted, .progress-bar-interrupted::-webkit-progress-bar {\n",
       "                background: #F44336;\n",
       "            }\n",
       "        </style>\n",
       "      <progress value='1965' class='' max='2034', style='width:300px; height:20px; vertical-align: middle;'></progress>\n",
       "      96.61% [1965/2034 02:17<00:04]\n",
       "    </div>\n",
       "    "
      ],
      "text/plain": [
       "<IPython.core.display.HTML object>"
      ]
     },
     "metadata": {},
     "output_type": "display_data"
    }
   ],
   "source": [
    "learn.fit_one_cycle(5, 1e-3, moms=(0.8,0.7))\n",
    "learn.save('third', with_opt=True)"
   ]
  },
  {
   "cell_type": "code",
   "execution_count": 22,
   "metadata": {},
   "outputs": [],
   "source": [
    "learn.load('third', with_opt=True);"
   ]
  },
  {
   "cell_type": "code",
   "execution_count": 23,
   "metadata": {},
   "outputs": [
    {
     "data": {
      "text/html": [
       "\n",
       "    <div>\n",
       "        <style>\n",
       "            /* Turns off some styling */\n",
       "            progress {\n",
       "                /* gets rid of default border in Firefox and Opera. */\n",
       "                border: none;\n",
       "                /* Needs to be in here for Safari polyfill so background images work as expected. */\n",
       "                background-size: auto;\n",
       "            }\n",
       "            .progress-bar-interrupted, .progress-bar-interrupted::-webkit-progress-bar {\n",
       "                background: #F44336;\n",
       "            }\n",
       "        </style>\n",
       "      <progress value='4' class='' max='5', style='width:300px; height:20px; vertical-align: middle;'></progress>\n",
       "      80.00% [4/5 2:01:18<30:19]\n",
       "    </div>\n",
       "    \n",
       "<table border=\"1\" class=\"dataframe\">\n",
       "  <thead>\n",
       "    <tr style=\"text-align: left;\">\n",
       "      <th>epoch</th>\n",
       "      <th>train_loss</th>\n",
       "      <th>valid_loss</th>\n",
       "      <th>accuracy</th>\n",
       "      <th>time</th>\n",
       "    </tr>\n",
       "  </thead>\n",
       "  <tbody>\n",
       "    <tr>\n",
       "      <td>0</td>\n",
       "      <td>2.748081</td>\n",
       "      <td>2.876139</td>\n",
       "      <td>0.520277</td>\n",
       "      <td>30:21</td>\n",
       "    </tr>\n",
       "    <tr>\n",
       "      <td>1</td>\n",
       "      <td>2.869988</td>\n",
       "      <td>2.873042</td>\n",
       "      <td>0.520904</td>\n",
       "      <td>30:22</td>\n",
       "    </tr>\n",
       "    <tr>\n",
       "      <td>2</td>\n",
       "      <td>2.845336</td>\n",
       "      <td>2.867723</td>\n",
       "      <td>0.521872</td>\n",
       "      <td>30:18</td>\n",
       "    </tr>\n",
       "    <tr>\n",
       "      <td>3</td>\n",
       "      <td>2.546134</td>\n",
       "      <td>2.865256</td>\n",
       "      <td>0.522314</td>\n",
       "      <td>30:15</td>\n",
       "    </tr>\n",
       "  </tbody>\n",
       "</table><p>\n",
       "\n",
       "    <div>\n",
       "        <style>\n",
       "            /* Turns off some styling */\n",
       "            progress {\n",
       "                /* gets rid of default border in Firefox and Opera. */\n",
       "                border: none;\n",
       "                /* Needs to be in here for Safari polyfill so background images work as expected. */\n",
       "                background-size: auto;\n",
       "            }\n",
       "            .progress-bar-interrupted, .progress-bar-interrupted::-webkit-progress-bar {\n",
       "                background: #F44336;\n",
       "            }\n",
       "        </style>\n",
       "      <progress value='1979' class='' max='2034', style='width:300px; height:20px; vertical-align: middle;'></progress>\n",
       "      97.30% [1979/2034 02:18<00:03]\n",
       "    </div>\n",
       "    "
      ],
      "text/plain": [
       "<IPython.core.display.HTML object>"
      ]
     },
     "metadata": {},
     "output_type": "display_data"
    }
   ],
   "source": [
    "learn.fit_one_cycle(5, 1e-4, moms=(0.8,0.7))\n",
    "learn.save('fourth', with_opt=True)"
   ]
  },
  {
   "cell_type": "code",
   "execution_count": 24,
   "metadata": {},
   "outputs": [],
   "source": [
    "learn.load('fourth', with_opt=True);"
   ]
  },
  {
   "cell_type": "code",
   "execution_count": null,
   "metadata": {},
   "outputs": [],
   "source": []
  },
  {
   "cell_type": "code",
   "execution_count": 25,
   "metadata": {},
   "outputs": [],
   "source": [
    "TEXT = \"ఇది మండల కేంద్రమైన రంపచోడవరం నుండి\"\n",
    "N_WORDS = 20\n",
    "N_SENTENCES = 2"
   ]
  },
  {
   "cell_type": "code",
   "execution_count": 26,
   "metadata": {},
   "outputs": [
    {
     "name": "stdout",
     "output_type": "stream",
     "text": [
      "ఇది మండల కేంద్రమైన రంపచోడవరం నుండి ▁15 ▁కి . ▁మీ . ▁దూరం ▁లోను , ▁సమీప ▁పట్టణమైన ▁అనకాపల్లి ▁నుండి ▁83 ▁కి . ▁మీ . ▁దూరంలోనూ ▁ఉంది .\n",
      "ఇది మండల కేంద్రమైన రంపచోడవరం నుండి ▁15 ▁కి . ▁మీ . ▁దూరం ▁లోను , ▁సమీప ▁పట్టణమైన ▁జైపూరు ▁( ఒరిస్సా ) ▁నుండి ▁71 ▁కి . ▁మీ .\n"
     ]
    }
   ],
   "source": [
    "print(\"\\n\".join(learn.predict(TEXT, N_WORDS, temperature=0.9) for _ in range(N_SENTENCES)))"
   ]
  },
  {
   "cell_type": "code",
   "execution_count": null,
   "metadata": {},
   "outputs": [],
   "source": []
  },
  {
   "cell_type": "markdown",
   "metadata": {},
   "source": [
    "### Extract embeddings"
   ]
  },
  {
   "cell_type": "code",
   "execution_count": 27,
   "metadata": {},
   "outputs": [
    {
     "name": "stderr",
     "output_type": "stream",
     "text": [
      "/opt/conda/lib/python3.6/site-packages/torch/serialization.py:292: UserWarning: Couldn't retrieve source code for container of type CrossEntropyLoss. It won't be checked for correctness upon loading.\n",
      "  \"type \" + obj.__name__ + \". It won't be checked \"\n",
      "/opt/conda/lib/python3.6/site-packages/torch/serialization.py:292: UserWarning: Couldn't retrieve source code for container of type SequentialRNN. It won't be checked for correctness upon loading.\n",
      "  \"type \" + obj.__name__ + \". It won't be checked \"\n",
      "/opt/conda/lib/python3.6/site-packages/torch/serialization.py:292: UserWarning: Couldn't retrieve source code for container of type AWD_LSTM. It won't be checked for correctness upon loading.\n",
      "  \"type \" + obj.__name__ + \". It won't be checked \"\n",
      "/opt/conda/lib/python3.6/site-packages/torch/serialization.py:292: UserWarning: Couldn't retrieve source code for container of type Embedding. It won't be checked for correctness upon loading.\n",
      "  \"type \" + obj.__name__ + \". It won't be checked \"\n",
      "/opt/conda/lib/python3.6/site-packages/torch/serialization.py:292: UserWarning: Couldn't retrieve source code for container of type EmbeddingDropout. It won't be checked for correctness upon loading.\n",
      "  \"type \" + obj.__name__ + \". It won't be checked \"\n",
      "/opt/conda/lib/python3.6/site-packages/torch/serialization.py:292: UserWarning: Couldn't retrieve source code for container of type ModuleList. It won't be checked for correctness upon loading.\n",
      "  \"type \" + obj.__name__ + \". It won't be checked \"\n",
      "/opt/conda/lib/python3.6/site-packages/torch/serialization.py:292: UserWarning: Couldn't retrieve source code for container of type WeightDropout. It won't be checked for correctness upon loading.\n",
      "  \"type \" + obj.__name__ + \". It won't be checked \"\n",
      "/opt/conda/lib/python3.6/site-packages/torch/serialization.py:292: UserWarning: Couldn't retrieve source code for container of type LSTM. It won't be checked for correctness upon loading.\n",
      "  \"type \" + obj.__name__ + \". It won't be checked \"\n",
      "/opt/conda/lib/python3.6/site-packages/torch/serialization.py:292: UserWarning: Couldn't retrieve source code for container of type RNNDropout. It won't be checked for correctness upon loading.\n",
      "  \"type \" + obj.__name__ + \". It won't be checked \"\n",
      "/opt/conda/lib/python3.6/site-packages/torch/serialization.py:292: UserWarning: Couldn't retrieve source code for container of type LinearDecoder. It won't be checked for correctness upon loading.\n",
      "  \"type \" + obj.__name__ + \". It won't be checked \"\n",
      "/opt/conda/lib/python3.6/site-packages/torch/serialization.py:292: UserWarning: Couldn't retrieve source code for container of type Linear. It won't be checked for correctness upon loading.\n",
      "  \"type \" + obj.__name__ + \". It won't be checked \"\n"
     ]
    }
   ],
   "source": [
    "defaults.device = torch.device('cpu')\n",
    "learn.model.eval()\n",
    "learn.export()"
   ]
  },
  {
   "cell_type": "code",
   "execution_count": 28,
   "metadata": {},
   "outputs": [],
   "source": [
    "# Generating embedding vectors for visualization"
   ]
  },
  {
   "cell_type": "code",
   "execution_count": 29,
   "metadata": {},
   "outputs": [],
   "source": [
    "telugu_lm_path = os.path.join(working_path)"
   ]
  },
  {
   "cell_type": "code",
   "execution_count": 30,
   "metadata": {},
   "outputs": [],
   "source": [
    "!rm -rf models\\"
   ]
  },
  {
   "cell_type": "code",
   "execution_count": 31,
   "metadata": {},
   "outputs": [
    {
     "name": "stdout",
     "output_type": "stream",
     "text": [
      "__notebook__.ipynb  export.pkl\tmodels\ttelugu_lm.data\r\n"
     ]
    }
   ],
   "source": [
    "!ls"
   ]
  },
  {
   "cell_type": "code",
   "execution_count": 32,
   "metadata": {},
   "outputs": [
    {
     "data": {
      "text/html": [],
      "text/plain": [
       "<IPython.core.display.HTML object>"
      ]
     },
     "metadata": {},
     "output_type": "display_data"
    },
    {
     "data": {
      "text/html": [],
      "text/plain": [
       "<IPython.core.display.HTML object>"
      ]
     },
     "metadata": {},
     "output_type": "display_data"
    }
   ],
   "source": [
    "learn = load_learner(working_path)"
   ]
  },
  {
   "cell_type": "code",
   "execution_count": 33,
   "metadata": {},
   "outputs": [
    {
     "data": {
      "text/plain": [
       "torch.Size([25000, 400])"
      ]
     },
     "execution_count": 33,
     "metadata": {},
     "output_type": "execute_result"
    }
   ],
   "source": [
    "encoder = get_model(learn.model)[0]\n",
    "encoder.state_dict()['encoder.weight'].shape"
   ]
  },
  {
   "cell_type": "code",
   "execution_count": 34,
   "metadata": {},
   "outputs": [
    {
     "data": {
      "text/plain": [
       "(400,)"
      ]
     },
     "execution_count": 34,
     "metadata": {},
     "output_type": "execute_result"
    }
   ],
   "source": [
    "embeddings = encoder.state_dict()['encoder.weight']\n",
    "embeddings = np.array(embeddings)\n",
    "embeddings[0].shape"
   ]
  },
  {
   "cell_type": "code",
   "execution_count": 35,
   "metadata": {},
   "outputs": [
    {
     "data": {
      "text/plain": [
       "(25000, 400)"
      ]
     },
     "execution_count": 35,
     "metadata": {},
     "output_type": "execute_result"
    }
   ],
   "source": [
    "df1 = pd.DataFrame(embeddings)\n",
    "df1.shape"
   ]
  },
  {
   "cell_type": "code",
   "execution_count": 36,
   "metadata": {},
   "outputs": [],
   "source": [
    "df1.index = itos"
   ]
  },
  {
   "cell_type": "code",
   "execution_count": 37,
   "metadata": {},
   "outputs": [
    {
     "data": {
      "text/html": [
       "<div>\n",
       "<style scoped>\n",
       "    .dataframe tbody tr th:only-of-type {\n",
       "        vertical-align: middle;\n",
       "    }\n",
       "\n",
       "    .dataframe tbody tr th {\n",
       "        vertical-align: top;\n",
       "    }\n",
       "\n",
       "    .dataframe thead th {\n",
       "        text-align: right;\n",
       "    }\n",
       "</style>\n",
       "<table border=\"1\" class=\"dataframe\">\n",
       "  <thead>\n",
       "    <tr style=\"text-align: right;\">\n",
       "      <th></th>\n",
       "      <th>0</th>\n",
       "      <th>1</th>\n",
       "      <th>2</th>\n",
       "      <th>3</th>\n",
       "      <th>4</th>\n",
       "      <th>5</th>\n",
       "      <th>6</th>\n",
       "      <th>7</th>\n",
       "      <th>8</th>\n",
       "      <th>9</th>\n",
       "      <th>...</th>\n",
       "      <th>390</th>\n",
       "      <th>391</th>\n",
       "      <th>392</th>\n",
       "      <th>393</th>\n",
       "      <th>394</th>\n",
       "      <th>395</th>\n",
       "      <th>396</th>\n",
       "      <th>397</th>\n",
       "      <th>398</th>\n",
       "      <th>399</th>\n",
       "    </tr>\n",
       "  </thead>\n",
       "  <tbody>\n",
       "    <tr>\n",
       "      <th>&lt;unk&gt;</th>\n",
       "      <td>-0.096375</td>\n",
       "      <td>-0.458252</td>\n",
       "      <td>-0.244873</td>\n",
       "      <td>0.142456</td>\n",
       "      <td>0.172241</td>\n",
       "      <td>-0.785156</td>\n",
       "      <td>-0.202026</td>\n",
       "      <td>-0.949707</td>\n",
       "      <td>0.199829</td>\n",
       "      <td>-0.309082</td>\n",
       "      <td>...</td>\n",
       "      <td>0.108093</td>\n",
       "      <td>-0.320557</td>\n",
       "      <td>-0.125488</td>\n",
       "      <td>-0.196777</td>\n",
       "      <td>0.005756</td>\n",
       "      <td>-0.298340</td>\n",
       "      <td>-0.049011</td>\n",
       "      <td>-0.298828</td>\n",
       "      <td>0.200439</td>\n",
       "      <td>0.071777</td>\n",
       "    </tr>\n",
       "    <tr>\n",
       "      <th>&lt;s&gt;</th>\n",
       "      <td>-0.022461</td>\n",
       "      <td>-0.063843</td>\n",
       "      <td>0.025513</td>\n",
       "      <td>0.083801</td>\n",
       "      <td>-0.040863</td>\n",
       "      <td>-0.114441</td>\n",
       "      <td>-0.092285</td>\n",
       "      <td>-0.266846</td>\n",
       "      <td>0.117798</td>\n",
       "      <td>0.141479</td>\n",
       "      <td>...</td>\n",
       "      <td>0.026291</td>\n",
       "      <td>-0.043976</td>\n",
       "      <td>-0.047058</td>\n",
       "      <td>0.018341</td>\n",
       "      <td>0.059479</td>\n",
       "      <td>-0.570801</td>\n",
       "      <td>-0.289795</td>\n",
       "      <td>-0.328125</td>\n",
       "      <td>0.132080</td>\n",
       "      <td>0.049774</td>\n",
       "    </tr>\n",
       "    <tr>\n",
       "      <th>&lt;/s&gt;</th>\n",
       "      <td>-0.022461</td>\n",
       "      <td>-0.063843</td>\n",
       "      <td>0.025513</td>\n",
       "      <td>0.083801</td>\n",
       "      <td>-0.040863</td>\n",
       "      <td>-0.114441</td>\n",
       "      <td>-0.092285</td>\n",
       "      <td>-0.266846</td>\n",
       "      <td>0.117798</td>\n",
       "      <td>0.141479</td>\n",
       "      <td>...</td>\n",
       "      <td>0.026291</td>\n",
       "      <td>-0.043976</td>\n",
       "      <td>-0.047058</td>\n",
       "      <td>0.018341</td>\n",
       "      <td>0.059479</td>\n",
       "      <td>-0.570801</td>\n",
       "      <td>-0.289795</td>\n",
       "      <td>-0.328125</td>\n",
       "      <td>0.132080</td>\n",
       "      <td>0.049774</td>\n",
       "    </tr>\n",
       "    <tr>\n",
       "      <th>.</th>\n",
       "      <td>0.185059</td>\n",
       "      <td>-0.663086</td>\n",
       "      <td>0.093018</td>\n",
       "      <td>0.610840</td>\n",
       "      <td>-0.306396</td>\n",
       "      <td>-0.335693</td>\n",
       "      <td>-0.122498</td>\n",
       "      <td>-0.449951</td>\n",
       "      <td>0.717773</td>\n",
       "      <td>-0.002869</td>\n",
       "      <td>...</td>\n",
       "      <td>-0.033752</td>\n",
       "      <td>0.466064</td>\n",
       "      <td>-0.188721</td>\n",
       "      <td>-0.135376</td>\n",
       "      <td>0.080078</td>\n",
       "      <td>-0.156860</td>\n",
       "      <td>-0.597656</td>\n",
       "      <td>-0.386963</td>\n",
       "      <td>0.131470</td>\n",
       "      <td>-0.339355</td>\n",
       "    </tr>\n",
       "    <tr>\n",
       "      <th>,</th>\n",
       "      <td>0.149170</td>\n",
       "      <td>-1.070312</td>\n",
       "      <td>0.212036</td>\n",
       "      <td>0.396729</td>\n",
       "      <td>-0.194580</td>\n",
       "      <td>-0.153809</td>\n",
       "      <td>0.052460</td>\n",
       "      <td>-0.410156</td>\n",
       "      <td>-0.156860</td>\n",
       "      <td>0.151733</td>\n",
       "      <td>...</td>\n",
       "      <td>0.005299</td>\n",
       "      <td>0.448730</td>\n",
       "      <td>-0.045624</td>\n",
       "      <td>-0.130615</td>\n",
       "      <td>0.116028</td>\n",
       "      <td>-0.520508</td>\n",
       "      <td>-0.259766</td>\n",
       "      <td>-0.278320</td>\n",
       "      <td>0.066223</td>\n",
       "      <td>0.343994</td>\n",
       "    </tr>\n",
       "  </tbody>\n",
       "</table>\n",
       "<p>5 rows × 400 columns</p>\n",
       "</div>"
      ],
      "text/plain": [
       "            0         1         2         3         4         5         6    \\\n",
       "<unk> -0.096375 -0.458252 -0.244873  0.142456  0.172241 -0.785156 -0.202026   \n",
       "<s>   -0.022461 -0.063843  0.025513  0.083801 -0.040863 -0.114441 -0.092285   \n",
       "</s>  -0.022461 -0.063843  0.025513  0.083801 -0.040863 -0.114441 -0.092285   \n",
       ".      0.185059 -0.663086  0.093018  0.610840 -0.306396 -0.335693 -0.122498   \n",
       ",      0.149170 -1.070312  0.212036  0.396729 -0.194580 -0.153809  0.052460   \n",
       "\n",
       "            7         8         9    ...       390       391       392  \\\n",
       "<unk> -0.949707  0.199829 -0.309082  ...  0.108093 -0.320557 -0.125488   \n",
       "<s>   -0.266846  0.117798  0.141479  ...  0.026291 -0.043976 -0.047058   \n",
       "</s>  -0.266846  0.117798  0.141479  ...  0.026291 -0.043976 -0.047058   \n",
       ".     -0.449951  0.717773 -0.002869  ... -0.033752  0.466064 -0.188721   \n",
       ",     -0.410156 -0.156860  0.151733  ...  0.005299  0.448730 -0.045624   \n",
       "\n",
       "            393       394       395       396       397       398       399  \n",
       "<unk> -0.196777  0.005756 -0.298340 -0.049011 -0.298828  0.200439  0.071777  \n",
       "<s>    0.018341  0.059479 -0.570801 -0.289795 -0.328125  0.132080  0.049774  \n",
       "</s>   0.018341  0.059479 -0.570801 -0.289795 -0.328125  0.132080  0.049774  \n",
       ".     -0.135376  0.080078 -0.156860 -0.597656 -0.386963  0.131470 -0.339355  \n",
       ",     -0.130615  0.116028 -0.520508 -0.259766 -0.278320  0.066223  0.343994  \n",
       "\n",
       "[5 rows x 400 columns]"
      ]
     },
     "execution_count": 37,
     "metadata": {},
     "output_type": "execute_result"
    }
   ],
   "source": [
    "df1.head()"
   ]
  },
  {
   "cell_type": "code",
   "execution_count": 38,
   "metadata": {},
   "outputs": [],
   "source": [
    "df1.to_csv('embedding_vectors.tsv', sep='\\t', index = False, header=False)"
   ]
  },
  {
   "cell_type": "code",
   "execution_count": 39,
   "metadata": {},
   "outputs": [
    {
     "data": {
      "text/plain": [
       "(25000, 1)"
      ]
     },
     "execution_count": 39,
     "metadata": {},
     "output_type": "execute_result"
    }
   ],
   "source": [
    "df2 = pd.DataFrame(itos)\n",
    "df2.shape"
   ]
  },
  {
   "cell_type": "code",
   "execution_count": 40,
   "metadata": {},
   "outputs": [
    {
     "data": {
      "text/html": [
       "<div>\n",
       "<style scoped>\n",
       "    .dataframe tbody tr th:only-of-type {\n",
       "        vertical-align: middle;\n",
       "    }\n",
       "\n",
       "    .dataframe tbody tr th {\n",
       "        vertical-align: top;\n",
       "    }\n",
       "\n",
       "    .dataframe thead th {\n",
       "        text-align: right;\n",
       "    }\n",
       "</style>\n",
       "<table border=\"1\" class=\"dataframe\">\n",
       "  <thead>\n",
       "    <tr style=\"text-align: right;\">\n",
       "      <th></th>\n",
       "      <th>0</th>\n",
       "    </tr>\n",
       "  </thead>\n",
       "  <tbody>\n",
       "    <tr>\n",
       "      <th>0</th>\n",
       "      <td>&lt;unk&gt;</td>\n",
       "    </tr>\n",
       "    <tr>\n",
       "      <th>1</th>\n",
       "      <td>&lt;s&gt;</td>\n",
       "    </tr>\n",
       "    <tr>\n",
       "      <th>2</th>\n",
       "      <td>&lt;/s&gt;</td>\n",
       "    </tr>\n",
       "    <tr>\n",
       "      <th>3</th>\n",
       "      <td>.</td>\n",
       "    </tr>\n",
       "    <tr>\n",
       "      <th>4</th>\n",
       "      <td>,</td>\n",
       "    </tr>\n",
       "  </tbody>\n",
       "</table>\n",
       "</div>"
      ],
      "text/plain": [
       "       0\n",
       "0  <unk>\n",
       "1    <s>\n",
       "2   </s>\n",
       "3      .\n",
       "4      ,"
      ]
     },
     "execution_count": 40,
     "metadata": {},
     "output_type": "execute_result"
    }
   ],
   "source": [
    "df2.head()"
   ]
  },
  {
   "cell_type": "code",
   "execution_count": 41,
   "metadata": {},
   "outputs": [],
   "source": [
    "df2.to_csv('embedding_metadata.tsv', sep='\\t', index=False, header=False)"
   ]
  },
  {
   "cell_type": "code",
   "execution_count": 42,
   "metadata": {},
   "outputs": [],
   "source": [
    "### "
   ]
  }
 ],
 "metadata": {
  "kernelspec": {
   "display_name": "Python 3",
   "language": "python",
   "name": "python3"
  },
  "language_info": {
   "codemirror_mode": {
    "name": "ipython",
    "version": 3
   },
   "file_extension": ".py",
   "mimetype": "text/x-python",
   "name": "python",
   "nbconvert_exporter": "python",
   "pygments_lexer": "ipython3",
   "version": "3.6.6"
  }
 },
 "nbformat": 4,
 "nbformat_minor": 1
}
