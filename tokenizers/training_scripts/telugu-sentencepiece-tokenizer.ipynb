{
 "cells": [
  {
   "cell_type": "code",
   "execution_count": 1,
   "metadata": {},
   "outputs": [],
   "source": [
    "!pip -q install inltk"
   ]
  },
  {
   "cell_type": "code",
   "execution_count": 2,
   "metadata": {},
   "outputs": [
    {
     "name": "stdout",
     "output_type": "stream",
     "text": [
      "/kaggle/input/telugu-wikipedia-dataset/__results__.html\n",
      "/kaggle/input/telugu-wikipedia-dataset/custom.css\n",
      "/kaggle/input/telugu-wikipedia-dataset/__notebook__.ipynb\n",
      "/kaggle/input/telugu-wikipedia-dataset/telugu_wikipedia_dataset.parquet\n",
      "/kaggle/input/telugu-wikipedia-dataset/telugu_wiki_links.csv\n",
      "/kaggle/input/telugu-wikipedia-dataset/__output__.json\n"
     ]
    }
   ],
   "source": [
    "import pandas as pd\n",
    "import numpy as np\n",
    "import re\n",
    "import os\n",
    "import sentencepiece as spm\n",
    "import pickle\n",
    "import pathlib\n",
    "\n",
    "data_paths = {}\n",
    "for dirname, _, filenames in os.walk('/kaggle/input'):\n",
    "    for filename in filenames:\n",
    "        data_paths[filename] = os.path.join(dirname, filename)\n",
    "        print(os.path.join(dirname, filename))"
   ]
  },
  {
   "cell_type": "code",
   "execution_count": 3,
   "metadata": {},
   "outputs": [],
   "source": [
    "working_path = '/kaggle/working'"
   ]
  },
  {
   "cell_type": "code",
   "execution_count": 4,
   "metadata": {},
   "outputs": [
    {
     "data": {
      "text/plain": [
       "((99052, 2), Index(['title', 'text'], dtype='object'))"
      ]
     },
     "execution_count": 4,
     "metadata": {},
     "output_type": "execute_result"
    }
   ],
   "source": [
    "tel_df = pd.read_parquet(data_paths['telugu_wikipedia_dataset.parquet'])\n",
    "tel_df.shape, tel_df.columns"
   ]
  },
  {
   "cell_type": "code",
   "execution_count": 5,
   "metadata": {},
   "outputs": [
    {
     "name": "stdout",
     "output_type": "stream",
     "text": [
      "94435\n"
     ]
    }
   ],
   "source": [
    "texts = (tel_df['title'] + ' ' + tel_df['text']).tolist()\n",
    "texts = [t for t in tel_df['text'] if len(t.strip())>1]\n",
    "print(len(texts))"
   ]
  },
  {
   "cell_type": "code",
   "execution_count": 6,
   "metadata": {},
   "outputs": [],
   "source": [
    "def preprocess(article):\n",
    "    article = re.sub(r'^https?:\\/\\/.*[\\r\\n]*', '', article)\n",
    "    article = article.replace(u'\\ufeff',' ')\n",
    "    article = article.replace(u'\\xa0', u' ')\n",
    "    article = article.replace('  ', ' ');\n",
    "    article = article.replace(' , ', ', ');\n",
    "    return article"
   ]
  },
  {
   "cell_type": "code",
   "execution_count": 7,
   "metadata": {},
   "outputs": [
    {
     "name": "stdout",
     "output_type": "stream",
     "text": [
      "1449741\n"
     ]
    }
   ],
   "source": [
    "sentences = []\n",
    "for t in texts:\n",
    "    t = t.strip('\\\\n')\n",
    "    ts = t.split('\\n')\n",
    "    ts = [s.strip() for s in ts if len(s) > 1]\n",
    "    ts = [preprocess(s) for s in ts]\n",
    "    sentences.extend(ts)\n",
    "print(len(sentences))"
   ]
  },
  {
   "cell_type": "code",
   "execution_count": 8,
   "metadata": {},
   "outputs": [],
   "source": [
    "tel_path = os.path.join(working_path, 'TeluguWikiSentences.txt')\n",
    "with open(tel_path, 'w') as f:\n",
    "    f.write('\\n'.join(sentences))"
   ]
  },
  {
   "cell_type": "code",
   "execution_count": 9,
   "metadata": {},
   "outputs": [
    {
     "data": {
      "text/plain": [
       "True"
      ]
     },
     "execution_count": 9,
     "metadata": {},
     "output_type": "execute_result"
    }
   ],
   "source": [
    "spm.SentencePieceTrainer.Train(f'--input={tel_path} --model_prefix=telugu_tok --vocab_size=25000')"
   ]
  },
  {
   "cell_type": "code",
   "execution_count": 10,
   "metadata": {},
   "outputs": [
    {
     "data": {
      "text/plain": [
       "True"
      ]
     },
     "execution_count": 10,
     "metadata": {},
     "output_type": "execute_result"
    }
   ],
   "source": [
    "sp = spm.SentencePieceProcessor()\n",
    "sp.Load(\"telugu_tok.model\")"
   ]
  },
  {
   "cell_type": "code",
   "execution_count": 11,
   "metadata": {},
   "outputs": [
    {
     "name": "stdout",
     "output_type": "stream",
     "text": [
      "\n",
      "\n",
      "వేములకొండ, తూర్పు గోదావరి జిల్లా, రంపచోడవరం మండలానికి చెందిన గ్రామము.[1]. పిన్ కోడ్: 533 288.\n",
      "['▁వేముల', 'కొండ', ',', '▁తూర్పు', '▁గోదావరి', '▁జిల్లా', ',', '▁రంపచోడవరం', '▁మండలానికి', '▁చెందిన', '▁గ్రామము', '.[1]', '.', '▁పిన్', '▁కోడ్', ':', '▁533', '▁28', '8.']\n",
      "\n",
      "\n",
      "ఇది మండల కేంద్రమైన రంపచోడవరం నుండి 12 కి. మీ. దూరం లోను, సమీప పట్టణమైన రాజమహేంద్రవరం నుండి 68 కి. మీ. దూరంలోనూ ఉంది. 2011 భారత జనగణన గణాంకాల ప్రకారం ఈ గ్రామం 75 ఇళ్లతో, 232 జనాభాతో 76 హెక్టార్లలో విస్తరించి ఉంది. గ్రామంలో మగవారి సంఖ్య 117, ఆడవారి సంఖ్య 115. షెడ్యూల్డ్ కులాల సంఖ్య 0 కాగా షెడ్యూల్డ్ తెగల సంఖ్య 219. గ్రామం యొక్క జనగణన లొకేషన్ కోడ్ 587154[2].పిన్ కోడ్: 533288.\n",
      "['▁ఇది', '▁మండల', '▁కేంద్రమైన', '▁రంపచోడవరం', '▁నుండి', '▁12', '▁కి', '.', '▁మీ', '.', '▁దూరం', '▁లోను', ',', '▁సమీప', '▁పట్టణమైన', '▁రాజమహేంద్రవరం', '▁నుండి', '▁68', '▁కి', '.', '▁మీ', '.', '▁దూరంలోనూ', '▁ఉంది', '.', '▁2011', '▁భారత', '▁జనగణన', '▁గణాంకాల', '▁ప్రకారం', '▁ఈ', '▁గ్రామం', '▁75', '▁ఇళ్లతో', ',', '▁23', '2', '▁జనాభాతో', '▁76', '▁హెక్టార్లలో', '▁విస్తరించి', '▁ఉంది', '.', '▁గ్రామంలో', '▁మగవారి', '▁సంఖ్య', '▁117', ',', '▁ఆడవారి', '▁సంఖ్య', '▁115', '.', '▁షెడ్యూల్డ్', '▁కులాల', '▁సంఖ్య', '▁0', '▁కాగా', '▁షెడ్యూల్డ్', '▁తెగల', '▁సంఖ్య', '▁2', '19', '.', '▁గ్రామం', '▁యొక్క', '▁జనగణన', '▁లొకేషన్', '▁కోడ్', '▁5', '87', '154', '[2].', 'పిన్', '▁కోడ్', ':', '▁533', '28', '8.']\n",
      "\n",
      "\n",
      "గ్రామంలో ప్రభుత్వ ప్రాథమిక పాఠశాల ఒకటి ఉంది.సమీప బాలబడి, ప్రాథమికోన్నత పాఠశాల రంపచోడవరంలోను, మాధ్యమిక పాఠశాల కాకవాడలోనూ ఉన్నాయి.సమీప జూనియర్ కళాశాల పెదగెద్దాడలోను, ప్రభుత్వ ఆర్ట్స్ / సైన్స్ డిగ్రీ కళాశాల, ఇంజనీరింగ్ కళాశాల‌లు రంపచోడవరంలోనూ ఉన్నాయి. సమీప వైద్య కళాశాల, మేనేజిమెంటు కళాశాల కాకినాడలోను, పాలీటెక్నిక్ ఈర్లపల్లిలోనూ ఉన్నాయి.సమీప వృత్తి విద్యా శిక్షణ పాఠశాల రంపచోడవరంలోను, అనియత విద్యా కేంద్రం కాకినాడలోను, దివ్యాంగుల ప్రత్యేక పాఠశాల రాజమహేంద్రవరం లోనూ ఉన్నాయి.\n",
      "['▁గ్రామంలో', '▁ప్రభుత్వ', '▁ప్రాథమిక', '▁పాఠశాల', '▁ఒకటి', '▁ఉంది', '.', 'సమీప', '▁బాలబడి', ',', '▁ప్రాథమికోన్నత', '▁పాఠశాల', '▁రంపచోడవరంలో', 'ను', ',', '▁మాధ్యమిక', '▁పాఠశాల', '▁కాక', 'వాడ', 'లోనూ', '▁ఉన్నాయి', '.', 'సమీప', '▁జూనియర్', '▁కళాశాల', '▁పెద', 'గె', 'ద్ద', 'ాడలో', 'ను', ',', '▁ప్రభుత్వ', '▁ఆర్ట్స్', '▁/', '▁సైన్స్', '▁డిగ్రీ', '▁కళాశాల', ',', '▁ఇంజనీరింగ్', '▁కళాశాల', '▁లు', '▁రంపచోడవరం', 'లోనూ', '▁ఉన్నాయి', '.', '▁సమీప', '▁వైద్య', '▁కళాశాల', ',', '▁మేనేజిమెంటు', '▁కళాశాల', '▁కాకినాడలోను', ',', '▁పాలీటెక్నిక్', '▁ఈ', 'ర్ల', 'పల్లిలోనూ', '▁ఉన్నాయి', '.', 'సమీప', '▁వృత్తి', '▁విద్యా', '▁శిక్షణ', '▁పాఠశాల', '▁రంపచోడవరంలో', 'ను', ',', '▁అనియత', '▁విద్యా', '▁కేంద్రం', '▁కాకినాడలోను', ',', '▁దివ్యాంగ', 'ుల', '▁ప్రత్యేక', '▁పాఠశాల', '▁రాజమహేంద్రవరం', '▁లోనూ', '▁ఉన్నాయి', '.']\n",
      "\n",
      "\n",
      "సమీప సామాజిక ఆరోగ్య కేంద్రం, ప్రాథమిక ఆరోగ్య కేంద్రం, ప్రాథమిక ఆరోగ్య ఉప కేంద్రం, మాతా శిశు సంరక్షణ కేంద్రం, టి. బి వైద్యశాల గ్రామం నుండి 10 కి.మీ. కంటే ఎక్కువ దూరంలో ఉన్నాయి. అలోపతి ఆసుపత్రి, ప్రత్యామ్నాయ ఔషధ ఆసుపత్రి, డిస్పెన్సరీ, పశు వైద్యశాల, సంచార వైద్య శాల, కుటుంబ సంక్షేమ కేంద్రం గ్రామం నుండి 10 కి.మీ. కంటే ఎక్కువ దూరంలో ఉన్నాయి.\n",
      "['▁సమీప', '▁సామాజిక', '▁ఆరోగ్య', '▁కేంద్రం', ',', '▁ప్రాథమిక', '▁ఆరోగ్య', '▁కేంద్రం', ',', '▁ప్రాథమిక', '▁ఆరోగ్య', '▁ఉప', '▁కేంద్రం', ',', '▁మాతా', '▁శిశు', '▁సంరక్షణ', '▁కేంద్రం', ',', '▁టి', '.', '▁బి', '▁వైద్యశాల', '▁గ్రామం', '▁నుండి', '▁10', '▁కి', '.', 'మీ', '.', '▁కంటే', '▁ఎక్కువ', '▁దూరంలో', '▁ఉన్నాయి', '.', '▁అలోపతి', '▁ఆసుపత్రి', ',', '▁ప్రత్యామ్నాయ', '▁ఔషధ', '▁ఆసుపత్రి', ',', '▁డిస్పెన్సరీ', ',', '▁పశు', '▁వైద్యశాల', ',', '▁సంచార', '▁వైద్య', '▁శాల', ',', '▁కుటుంబ', '▁సంక్షేమ', '▁కేంద్రం', '▁గ్రామం', '▁నుండి', '▁10', '▁కి', '.', 'మీ', '.', '▁కంటే', '▁ఎక్కువ', '▁దూరంలో', '▁ఉన్నాయి', '.']\n",
      "\n",
      "\n",
      "గ్రామంలో ఏడాది పొడుగునా చేతిపంపుల ద్వారా నీరు అందుతుంది.బోరుబావుల ద్వారా కూడా ఏడాది పొడుగునా నీరు అందుతుంది.\n",
      "['▁గ్రామంలో', '▁ఏడాది', '▁పొడుగునా', '▁చేతిపంపుల', '▁ద్వారా', '▁నీరు', '▁అందుతుంది', '.', 'బో', 'రు', 'బా', 'వుల', '▁ద్వారా', '▁కూడా', '▁ఏడాది', '▁పొడుగునా', '▁నీరు', '▁అందుతుంది', '.']\n"
     ]
    }
   ],
   "source": [
    "for i in range(0,5):\n",
    "    tokens = sp.EncodeAsPieces(sentences[i])\n",
    "    print('\\n')\n",
    "    print(sentences[i])\n",
    "    print(tokens)"
   ]
  },
  {
   "cell_type": "code",
   "execution_count": 12,
   "metadata": {},
   "outputs": [],
   "source": [
    "from fastai.text import BaseTokenizer\n",
    "import sentencepiece as spm\n",
    "\n",
    "class TeluguTokenizer(BaseTokenizer):\n",
    "    def __init__(self, lang:str):\n",
    "        self.lang = lang\n",
    "        self.sp = spm.SentencePieceProcessor()\n",
    "        self.sp.Load(\"telugu_tok.model\")\n",
    "        \n",
    "    def tokenizer(self, t:str):\n",
    "        return self.sp.EncodeAsPieces(t)"
   ]
  },
  {
   "cell_type": "code",
   "execution_count": null,
   "metadata": {},
   "outputs": [],
   "source": []
  }
 ],
 "metadata": {
  "kernelspec": {
   "display_name": "Python 3",
   "language": "python",
   "name": "python3"
  },
  "language_info": {
   "codemirror_mode": {
    "name": "ipython",
    "version": 3
   },
   "file_extension": ".py",
   "mimetype": "text/x-python",
   "name": "python",
   "nbconvert_exporter": "python",
   "pygments_lexer": "ipython3",
   "version": "3.6.6"
  }
 },
 "nbformat": 4,
 "nbformat_minor": 1
}
